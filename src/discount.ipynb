{
 "cells": [
  {
   "cell_type": "code",
   "execution_count": 1,
   "metadata": {},
   "outputs": [],
   "source": [
    "import pandas as pd"
   ]
  },
  {
   "cell_type": "code",
   "execution_count": 2,
   "metadata": {},
   "outputs": [],
   "source": [
    "sales_history = pd.read_csv('../data/sales_history.csv')\n",
    "merchandise_info = pd.read_csv('../data/merchandise_info.csv')\n",
    "wholesale_prices = pd.read_csv('../data/processed_wholesale_prices.csv')"
   ]
  },
  {
   "cell_type": "code",
   "execution_count": 3,
   "metadata": {},
   "outputs": [],
   "source": [
    "sales_history['date'] = pd.to_datetime(sales_history['date'])\n",
    "recent_days = sales_history.date.unique()[-30:]\n",
    "recent_discount = sales_history[(sales_history['discount']=='Y') & (sales_history['date'].isin(recent_days))].copy().reset_index(drop=True)\n",
    "recent_discount.rename(columns={'sales_price':'discount_price'}, inplace=True)\n",
    "recent_discount['normal_price']=0\n",
    "recent_non_discount = sales_history[(sales_history['discount']=='N') & (sales_history['date'].isin(recent_days))]"
   ]
  },
  {
   "cell_type": "code",
   "execution_count": 4,
   "metadata": {},
   "outputs": [
    {
     "name": "stdout",
     "output_type": "stream",
     "text": [
      "0.025118805159538356\n"
     ]
    }
   ],
   "source": [
    "for i in range(recent_discount.shape[0]):\n",
    "    date = recent_discount.loc[i,'date']\n",
    "    item_ID = recent_discount.loc[i,'item_ID']\n",
    "    df = recent_non_discount[(recent_non_discount['item_ID']==item_ID) & (recent_non_discount['date']==date)]\n",
    "    if df.shape[0]!=0:\n",
    "        normal_price = df.iloc[0]['sales_price']\n",
    "        recent_discount.loc[i,'normal_price'] = normal_price\n",
    "\n",
    "print((recent_discount['normal_price']==0).sum()/recent_discount.shape[0])"
   ]
  },
  {
   "cell_type": "code",
   "execution_count": 6,
   "metadata": {},
   "outputs": [],
   "source": [
    "recent_discount = recent_discount[recent_discount['normal_price']!=0].copy().reset_index(drop=True)\n",
    "recent_discount = recent_discount.merge(merchandise_info, on='item_ID', how='left')"
   ]
  },
  {
   "cell_type": "code",
   "execution_count": 8,
   "metadata": {},
   "outputs": [
    {
     "data": {
      "text/html": [
       "<div>\n",
       "<style scoped>\n",
       "    .dataframe tbody tr th:only-of-type {\n",
       "        vertical-align: middle;\n",
       "    }\n",
       "\n",
       "    .dataframe tbody tr th {\n",
       "        vertical-align: top;\n",
       "    }\n",
       "\n",
       "    .dataframe thead th {\n",
       "        text-align: right;\n",
       "    }\n",
       "</style>\n",
       "<table border=\"1\" class=\"dataframe\">\n",
       "  <thead>\n",
       "    <tr style=\"text-align: right;\">\n",
       "      <th></th>\n",
       "      <th>category_name</th>\n",
       "      <th>discount_price</th>\n",
       "      <th>normal_price</th>\n",
       "      <th>avg_discount</th>\n",
       "    </tr>\n",
       "  </thead>\n",
       "  <tbody>\n",
       "    <tr>\n",
       "      <th>0</th>\n",
       "      <td>Aquatic Roots and Tubers</td>\n",
       "      <td>11.608621</td>\n",
       "      <td>18.468966</td>\n",
       "      <td>0.628547</td>\n",
       "    </tr>\n",
       "    <tr>\n",
       "      <th>1</th>\n",
       "      <td>Cauliflower</td>\n",
       "      <td>9.164706</td>\n",
       "      <td>13.247059</td>\n",
       "      <td>0.691829</td>\n",
       "    </tr>\n",
       "    <tr>\n",
       "      <th>2</th>\n",
       "      <td>Chili Peppers</td>\n",
       "      <td>6.254338</td>\n",
       "      <td>8.769863</td>\n",
       "      <td>0.713163</td>\n",
       "    </tr>\n",
       "    <tr>\n",
       "      <th>3</th>\n",
       "      <td>Edible Mushrooms</td>\n",
       "      <td>2.531492</td>\n",
       "      <td>3.645856</td>\n",
       "      <td>0.694348</td>\n",
       "    </tr>\n",
       "    <tr>\n",
       "      <th>4</th>\n",
       "      <td>Leafy Greens</td>\n",
       "      <td>3.624752</td>\n",
       "      <td>5.238944</td>\n",
       "      <td>0.691886</td>\n",
       "    </tr>\n",
       "  </tbody>\n",
       "</table>\n",
       "</div>"
      ],
      "text/plain": [
       "              category_name  discount_price  normal_price  avg_discount\n",
       "0  Aquatic Roots and Tubers       11.608621     18.468966      0.628547\n",
       "1               Cauliflower        9.164706     13.247059      0.691829\n",
       "2             Chili Peppers        6.254338      8.769863      0.713163\n",
       "3          Edible Mushrooms        2.531492      3.645856      0.694348\n",
       "4              Leafy Greens        3.624752      5.238944      0.691886"
      ]
     },
     "execution_count": 8,
     "metadata": {},
     "output_type": "execute_result"
    }
   ],
   "source": [
    "category_discount = recent_discount.groupby(by='category_name').agg({'discount_price':'mean', 'normal_price':'mean'}).reset_index()\n",
    "category_discount['avg_discount'] = category_discount['discount_price'] / category_discount['normal_price']\n",
    "category_discount"
   ]
  }
 ],
 "metadata": {
  "kernelspec": {
   "display_name": "base",
   "language": "python",
   "name": "python3"
  },
  "language_info": {
   "codemirror_mode": {
    "name": "ipython",
    "version": 3
   },
   "file_extension": ".py",
   "mimetype": "text/x-python",
   "name": "python",
   "nbconvert_exporter": "python",
   "pygments_lexer": "ipython3",
   "version": "3.8.5"
  }
 },
 "nbformat": 4,
 "nbformat_minor": 2
}

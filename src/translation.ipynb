{
 "cells": [
  {
   "cell_type": "code",
   "execution_count": 1,
   "metadata": {},
   "outputs": [],
   "source": [
    "import pandas as pd"
   ]
  },
  {
   "cell_type": "markdown",
   "metadata": {},
   "source": [
    "## merchandise"
   ]
  },
  {
   "cell_type": "code",
   "execution_count": 3,
   "metadata": {},
   "outputs": [],
   "source": [
    "merch_info = pd.read_excel('../data/merchandise_info.xlsx')"
   ]
  },
  {
   "cell_type": "code",
   "execution_count": 10,
   "metadata": {},
   "outputs": [],
   "source": [
    "merch_info.columns = ['item_ID', 'item_name', 'category_ID', 'category_name']\n",
    "item_names = merch_info['item_name'].unique().tolist()"
   ]
  },
  {
   "cell_type": "code",
   "execution_count": 31,
   "metadata": {},
   "outputs": [],
   "source": [
    "item_names_translation = {\n",
    "    \"牛首生菜\": \"Lettuce\",\n",
    "    \"四川红香椿\": \"Sichuan Toona\",\n",
    "    \"本地小毛白菜\": \"Local Baby Bok Choy\",\n",
    "    \"白菜苔\": \"Napa Cabbage Shoots\",\n",
    "    \"苋菜\": \"Amaranth\",\n",
    "    \"云南生菜\": \"Yunnan Lettuce\",\n",
    "    \"竹叶菜\": \"Bamboo Leaf Vegetable\",\n",
    "    \"小白菜\": \"Baby Bok Choy\",\n",
    "    \"南瓜尖\": \"Pumpkin Shoots\",\n",
    "    \"上海青\": \"Shanghai Green\",\n",
    "    \"萝卜叶\": \"Radish Leaves\",\n",
    "    \"牛首油菜\": \"Oilseed Rape\",\n",
    "    \"茼蒿\": \"Tong Hao (Garland Chrysanthemum)\",\n",
    "    \"蔡甸藜蒿\": \"Caidian Amaranth\",\n",
    "    \"菜心\": \"Choy Sum\",\n",
    "    \"木耳菜\": \"Black Wood Ear Mushroom Vegetable\",\n",
    "    \"大白菜\": \"Chinese Cabbage\",\n",
    "    \"豌豆尖\": \"Snow Pea Shoots\",\n",
    "    \"云南油麦菜\": \"Yunnan You Mai Cai\",\n",
    "    \"马齿苋\": \"Water Spinach\",\n",
    "    \"本地菠菜\": \"Local Spinach\",\n",
    "    \"黄心菜(1)\": \"Yellowheart Vegetable (1)\",\n",
    "    \"黑油菜\": \"Black Oilseed Rape\",\n",
    "    \"本地上海青\": \"Local Shanghai Green\",\n",
    "    \"菠菜\": \"Spinach\",\n",
    "    \"娃娃菜\": \"Baby Cabbage\",\n",
    "    \"红薯尖\": \"Sweet Potato Shoots\",\n",
    "    \"枝江红菜苔\": \"Zhijiang Red Cabbage Shoots\",\n",
    "    \"黄花菜\": \"Yellow Flowering Vegetable\",\n",
    "    \"快菜\": \"Quick-Cooking Vegetable\",\n",
    "    \"随州泡泡青\": \"Suizhou Bubbles Green\",\n",
    "    \"田七\": \"Tianqi\",\n",
    "    \"东门口小白菜\": \"Dongmenkou Baby Bok Choy\",\n",
    "    \"外地茼蒿\": \"Foreign Tong Hao (Garland Chrysanthemum)\",\n",
    "    \"冰草\": \"Ice Lettuce\",\n",
    "    \"紫苏\": \"Perilla\",\n",
    "    \"薄荷叶\": \"Mint Leaves\",\n",
    "    \"蒲公英\": \"Dandelion\",\n",
    "    \"丝瓜尖\": \"Luffa Shoots\",\n",
    "    \"奶白菜\": \"Napa Cabbage\",\n",
    "    \"芥菜\": \"Mustard Greens\",\n",
    "    \"大芥兰\": \"Kale\",\n",
    "    \"面条菜\": \"Loofah Shoots\",\n",
    "    \"甜白菜\": \"Sweetheart Cabbage\",\n",
    "    \"荠菜\": \"Shepherd's Purse\",\n",
    "    \"马兰头\": \"Marantaceae Shoots\",\n",
    "    \"甘蓝叶\": \"Kale Leaves\",\n",
    "    \"洪山菜苔\": \"Hongshan Cabbage Shoots\",\n",
    "    \"本地黄心油菜\": \"Local Yellowheart Oilseed Rape\",\n",
    "    \"青菜苔\": \"Green Cabbage Shoots\",\n",
    "    \"小青菜(1)\": \"Baby Green Cabbage (1)\",\n",
    "    \"鲜粽子叶\": \"Fresh Bamboo Leaf for Zongzi\",\n",
    "    \"艾蒿\": \"Mugwort\",\n",
    "    \"奶白菜苗\": \"Napa Cabbage Sprouts\",\n",
    "    \"菊花油菜\": \"Chrysanthemum Oilseed Rape\",\n",
    "    \"双沟白菜\": \"Shuanggou Bok Choy\",\n",
    "    \"枝江红菜苔(份)\": \"Zhijiang Red Cabbage Shoots (Portion)\",\n",
    "    \"云南生菜(份)\": \"Yunnan Lettuce (Portion)\",\n",
    "    \"云南油麦菜(份)\": \"Yunnan You Mai Cai (Portion)\",\n",
    "    \"茼蒿(份)\": \"Tong Hao (Garland Chrysanthemum) (Portion)\",\n",
    "    \"菠菜(份)\": \"Spinach (Portion)\",\n",
    "    \"菜心(份)\": \"Choy Sum (Portion)\",\n",
    "    \"上海青(份)\": \"Shanghai Green (Portion)\",\n",
    "    \"小青菜(2)\": \"Baby Green Cabbage (2)\",\n",
    "    \"洪山菜薹珍品手提袋\": \"Hongshan Cabbage Shoots Premium Tote Bag\",\n",
    "    \"洪山菜薹莲藕拼装礼盒\": \"Hongshan Cabbage Shoots and Lotus Root Gift Box\",\n",
    "    \"鱼腥草(份)\": \"Houttuynia Cordata (Portion)\",\n",
    "    \"冰草(盒)\": \"Ice Lettuce (Box)\",\n",
    "    \"紫苏(份)\": \"Perilla (Portion)\",\n",
    "    \"襄甜红菜苔(袋)\": \"Xiangtian Red Cabbage Shoots (Bag)\",\n",
    "    \"白蒿\": \"White Artemisia\",\n",
    "    \"鱼腥草\": \"Houttuynia Cordata\",\n",
    "    \"竹叶菜(份)\": \"Bamboo Leaf Vegetable (Portion)\",\n",
    "    \"春菜\": \"Spring Greens\",\n",
    "    \"槐花\": \"Locust Flower\",\n",
    "    \"红薯尖(份)\": \"Sweet Potato Shoots (Portion)\",\n",
    "    \"蔡甸藜蒿(份)\": \"Caidian Amaranth (Portion)\",\n",
    "    \"红珊瑚(粗叶)\": \"Red Coral (Coarse Leaves)\",\n",
    "    \"红橡叶\": \"Red Oak Leaves\",\n",
    "    \"绿牛油\": \"Green Butterhead Lettuce\",\n",
    "    \"保康高山大白菜\": \"Baokang High Mountain Chinese Cabbage\",\n",
    "    \"黄心菜(2)\": \"Yellowheart Vegetable (2)\",\n",
    "    \"苋菜(份)\": \"Amaranth (Portion)\",\n",
    "    \"小白菜(份)\": \"Baby Bok Choy (Portion)\",\n",
    "    \"小青菜(份)\": \"Baby Green Cabbage (Portion)\",\n",
    "    \"奶白菜(份)\": \"Napa Cabbage (Portion)\",\n",
    "    \"芝麻苋菜\": \"Sesame Amaranth\",\n",
    "    \"鲜粽叶\": \"Fresh Zongzi Leaves\",\n",
    "    \"鲜粽叶(袋)(1)\": \"Fresh Zongzi Leaves (Bag)(1)\",\n",
    "    \"外地茼蒿(份)\": \"Foreign Tong Hao (Garland Chrysanthemum) (Portion)\",\n",
    "    \"龙牙菜\": \"Dragon Tooth Vegetable\",\n",
    "    \"黄白菜(1)\": \"Yellow and White Cabbage (1)\",\n",
    "    \"大白菜秧\": \"Young Chinese Cabbage\",\n",
    "    \"木耳菜(份)\": \"Black Wood Ear Mushroom Vegetable (Portion)\",\n",
    "    \"芥兰\": \"Chinese Kale\",\n",
    "    \"油菜苔\": \"Canola Shoots\",\n",
    "    \"黄白菜(2)\": \"Yellow and White Cabbage (2)\",\n",
    "    \"紫贝菜\": \"Purple Clamshell Vegetable\",\n",
    "    \"鲜粽叶(袋)(2)\": \"Fresh Zongzi Leaves (Bag)(2)\",\n",
    "    \"鲜粽叶(袋)(3)\": \"Fresh Zongzi Leaves (Bag)(3)\",\n",
    "    \"西兰花\": \"Broccoli\",\n",
    "    \"紫白菜(1)\": \"Purple and White Cabbage (1)\",\n",
    "    \"青梗散花\": \"Green-Stemmed Loose Flowers\",\n",
    "    \"紫白菜(2)\": \"Purple and White Cabbage (2)\",\n",
    "    \"枝江青梗散花\": \"Zhijiang Green-Stemmed Loose Flowers\",\n",
    "    \"藕\": \"Lotus Root\",\n",
    "    \"净藕(1)\": \"Clean Lotus Root (1)\",\n",
    "    \"高瓜(1)\": \"High Ridge Gourd (1)\",\n",
    "    \"莲蓬(个)\": \"Lotus Seedpod (Each)\",\n",
    "    \"菱角\": \"Water Chestnut\",\n",
    "    \"红莲藕带\": \"Red Lotus Root Slices\",\n",
    "    \"荸荠\": \"Water Bamboo\",\n",
    "    \"野藕(1)\": \"Wild Lotus Root (1)\",\n",
    "    \"野生粉藕\": \"Wild Powdered Lotus Root\",\n",
    "    \"洪湖莲藕(粉藕)\": \"Honghu Lotus Root (Powdered Lotus Root)\",\n",
    "    \"净藕(2)\": \"Clean Lotus Root (2)\",\n",
    "    \"鲜藕带(袋)\": \"Fresh Lotus Root Slices (Bag)\",\n",
    "    \"荸荠(份)\": \"Water Bamboo (Portion)\",\n",
    "    \"高瓜(2)\": \"High Ridge Gourd (2)\",\n",
    "    \"洪湖莲藕(脆藕)\": \"Honghu Lotus Root (Crispy Lotus Root)\",\n",
    "    \"净藕(3)\": \"Clean Lotus Root (3)\",\n",
    "    \"野藕(2)\": \"Wild Lotus Root (2)\",\n",
    "    \"洪湖藕带\": \"Honghu Lotus Root Slices\",\n",
    "    \"藕尖\": \"Lotus Root Tips\",\n",
    "    \"紫茄子(2)\": \"Purple Eggplant (2)\",\n",
    "    \"青茄子(1)\": \"Green Eggplant (1)\",\n",
    "    \"紫圆茄\": \"Purple Round Eggplant\",\n",
    "    \"大龙茄子\": \"Big Dragon Eggplant\",\n",
    "    \"花茄子\": \"Flower Eggplant\",\n",
    "    \"长线茄\": \"Long Line Eggplant\",\n",
    "    \"青茄子(2)\": \"Green Eggplant (2)\",\n",
    "    \"紫茄子(1)\": \"Purple Eggplant (1)\",\n",
    "    \"圆茄子(1)\": \"Round Eggplant (1)\",\n",
    "    \"圆茄子(2)\": \"Round Eggplant (2)\",\n",
    "    \"红尖椒\": \"Red Chili Pepper\",\n",
    "    \"青尖椒\": \"Green Chili Pepper\",\n",
    "    \"红椒(1)\": \"Red Pepper (1)\",\n",
    "    \"青杭椒(1)\": \"Green Hangzhou Pepper (1)\",\n",
    "    \"红杭椒\": \"Red Hangzhou Pepper\",\n",
    "    \"泡泡椒(精品)\": \"Bubble Pepper (Premium)\",\n",
    "    \"七彩椒(1)\": \"Rainbow Pepper (1)\",\n",
    "    \"青杭椒(2)\": \"Green Hangzhou Pepper (2)\",\n",
    "    \"灯笼椒(1)\": \"Lantern Pepper (1)\",\n",
    "    \"小米椒\": \"Bird's Eye Chili\",\n",
    "    \"螺丝椒\": \"Screw Pepper\",\n",
    "    \"红线椒\": \"Red Line Pepper\",\n",
    "    \"红灯笼椒(1)\": \"Red Lantern Pepper (1)\",\n",
    "    \"水果辣椒(橙色)\": \"Fruit Chili Pepper (Orange)\",\n",
    "    \"芜湖青椒(1)\": \"Wuhu Green Pepper (1)\",\n",
    "    \"组合椒系列\": \"Combo Pepper Series\",\n",
    "    \"芜湖青椒(2)\": \"Wuhu Green Pepper (2)\",\n",
    "    \"小皱皮\": \"Little Wrinkled Pepper\",\n",
    "    \"余干椒\": \"Yugan Pepper\",\n",
    "    \"辣妹子\": \"Spicy Girl\",\n",
    "    \"紫尖椒\": \"Purple Chili Pepper\",\n",
    "    \"紫螺丝椒\": \"Purple Screw Pepper\",\n",
    "    \"水果辣椒\": \"Fruit Chili Pepper\",\n",
    "    \"小米椒(份)\": \"Bird's Eye Chili (Portion)\",\n",
    "    \"青尖椒(份)\": \"Green Chili Pepper (Portion)\",\n",
    "    \"七彩椒(份)\": \"Rainbow Pepper (Portion)\",\n",
    "    \"灯笼椒(份)\": \"Lantern Pepper (Portion)\",\n",
    "    \"红灯笼椒(份)\": \"Red Lantern Pepper (Portion)\",\n",
    "    \"小皱皮(份)\": \"Little Wrinkled Pepper (Portion)\",\n",
    "    \"芜湖青椒(份)\": \"Wuhu Green Pepper (Portion)\",\n",
    "    \"青杭椒(份)\": \"Green Hangzhou Pepper (Portion)\",\n",
    "    \"红杭椒(份)\": \"Red Hangzhou Pepper (Portion)\",\n",
    "    \"水果辣椒(份)\": \"Fruit Chili Pepper (Portion)\",    \n",
    "    \"青线椒(份)\": \"Green Banana Pepper (Portion)\",\n",
    "    \"红尖椒(份)\": \"Red Pointed Pepper (Portion)\",\n",
    "    \"螺丝椒(份)\": \"Screw Pepper (Portion)\",\n",
    "    \"七彩椒(2)\": \"Multicolored Pepper (2 Pieces)\",\n",
    "    \"灯笼椒(2)\": \"Lantern Pepper (2 Pieces)\",\n",
    "    \"红灯笼椒(2)\": \"Red Lantern Pepper (2 Pieces)\",\n",
    "    \"姜蒜小米椒组合装(小份)\": \"Ginger, Garlic, and Tiny Chili Combo (Small Portion)\",\n",
    "    \"红椒(份)\": \"Red Chili Pepper (Portion)\",\n",
    "    \"青红杭椒组合装(份)\": \"Green and Red Hangzhou Pepper Combo (Portion)\",\n",
    "    \"红椒(2)\": \"Red Chili Pepper (2 Pieces)\",\n",
    "    \"青红尖椒组合装(份)\": \"Green and Red Pointed Pepper Combo (Portion)\",\n",
    "    \"青线椒\": \"Green Banana Pepper\",\n",
    "    \"西峡花菇(1)\": \"Xixia Flower Mushroom (1 Piece)\",\n",
    "    \"西峡香菇(1)\": \"Xixia Shiitake Mushroom (1 Piece)\",\n",
    "    \"金针菇(1)\": \"Enoki Mushroom (1 Piece)\",\n",
    "    \"平菇\": \"King Oyster Mushroom\",\n",
    "    \"姬菇(1)\": \"White Beech Mushroom (1 Piece)\",\n",
    "    \"白玉菇(1)\": \"White Jade Mushroom (1 Piece)\",\n",
    "    \"双孢菇\": \"Shimeji Mushroom\",\n",
    "    \"蟹味菇(1)\": \"Crab Mushroom (1 Piece)\",\n",
    "    \"海鲜菇(1)\": \"Seafood Mushroom (1 Piece)\",\n",
    "    \"杏鲍菇(1)\": \"Shimeji Mushroom (1 Piece)\",\n",
    "    \"姬菇(包)\": \"White Beech Mushroom (Pack)\",\n",
    "    \"金针菇(袋)(1)\": \"Enoki Mushroom (Bag, 1 Piece)\",\n",
    "    \"银耳(朵)\": \"White Wood Ear Mushroom (Piece)\",\n",
    "    \"猴头菇\": \"Monkey Head Mushroom\",\n",
    "    \"鲜木耳(1)\": \"Fresh Wood Ear Mushroom (1 Piece)\",\n",
    "    \"鸡枞菌\": \"Chicken-of-the-Woods Mushroom\",\n",
    "    \"黑牛肝菌\": \"Black Morel\",\n",
    "    \"海鲜菇(袋)(1)\": \"Seafood Mushroom (Bag, 1 Piece)\",\n",
    "    \"秀珍菇\": \"Xiu Zhen Mushroom\",\n",
    "    \"虫草花(盒)(1)\": \"Cordyceps Flower (Box, 1 Piece)\",\n",
    "    \"茶树菇(袋)\": \"Tea Tree Mushroom (Bag)\",\n",
    "    \"黑皮鸡枞菌\": \"Black-Meshed Chicken-of-the-Woods Mushroom\",\n",
    "    \"杏鲍菇(袋)\": \"Shimeji Mushroom (Bag)\",\n",
    "    \"白玉菇(袋)\": \"White Jade Mushroom (Bag)\",\n",
    "    \"虫草花(袋)\": \"Cordyceps Flower (Bag)\",\n",
    "    \"赤松茸\": \"Red Pine Mushroom\",\n",
    "    \"牛排菇\": \"Steak Mushroom\",\n",
    "    \"活体银耳\": \"Living White Wood Ear Mushroom\",\n",
    "    \"杏鲍菇(250克)\": \"Shimeji Mushroom (250g)\",\n",
    "    \"赤松茸(盒)\": \"Red Pine Mushroom (Box)\",\n",
    "    \"牛排菇(盒)\": \"Steak Mushroom (Box)\",\n",
    "    \"猪肚菇(盒)\": \"Pig Stomach Mushroom (Box)\",\n",
    "    \"黑牛肝菌(盒)\": \"Black Morel (Box)\",\n",
    "    \"黑皮鸡枞菌(盒)\": \"Black-Meshed Chicken-of-the-Woods Mushroom (Box)\",\n",
    "    \"海鲜菇(份)\": \"Seafood Mushroom (Portion)\",\n",
    "    \"鲜木耳(份)\": \"Fresh Wood Ear Mushroom (Portion)\",\n",
    "    \"杏鲍菇(份)\": \"Shimeji Mushroom (Portion)\",\n",
    "    \"双孢菇(份)\": \"Shimeji Mushroom (Portion)\",\n",
    "    \"金针菇(份)\": \"Enoki Mushroom (Portion)\",\n",
    "    \"虫草花(份)\": \"Cordyceps Flower (Portion)\",\n",
    "    \"姬菇(份)\": \"White Beech Mushroom (Portion)\",\n",
    "    \"西峡香菇(2)\": \"Xixia Shiitake Mushroom (2 Pieces)\",\n",
    "    \"鲜木耳(2)\": \"Fresh Wood Ear Mushroom (2 Pieces)\",\n",
    "    \"海鲜菇(2)\": \"Seafood Mushroom (2 Pieces)\",\n",
    "    \"姬菇(2)\": \"White Beech Mushroom (2 Pieces)\",\n",
    "    \"金针菇(2)\": \"Enoki Mushroom (2 Pieces)\",\n",
    "    \"杏鲍菇(2)\": \"Shimeji Mushroom (2 Pieces)\",\n",
    "    \"西峡花菇(2)\": \"Xixia Flower Mushroom (2 Pieces)\",\n",
    "    \"双孢菇(盒)\": \"Shimeji Mushroom (Box)\",\n",
    "    \"花菇(一人份)\": \"Flower Mushroom (Single Serving)\",\n",
    "    \"菌菇火锅套餐(份)\": \"Mushroom Hot Pot Set (Portion)\",\n",
    "    \"蟹味菇与白玉菇双拼(盒)\": \"Crab Mushroom and White Jade Mushroom Combo (Box)\",\n",
    "    \"西峡香菇(份)\": \"Xixia Shiitake Mushroom (Portion)\",\n",
    "    \"菌蔬四宝(份)\": \"Four Treasures of Mushrooms and Vegetables (Portion)\",\n",
    "    \"鹿茸菇(盒)\": \"Deer Antler Mushroom (Box)\",\n",
    "    \"虫草花\": \"Cordyceps Flower\",\n",
    "    \"蟹味菇(袋)\": \"Crab Mushroom (Bag)\",\n",
    "    \"海鲜菇(袋)(2)\": \"Seafood Mushroom (Bag, 2 Pieces)\",\n",
    "    \"绣球菌\": \"Stropharia Mushroom\",\n",
    "    \"绣球菌(袋)\": \"Stropharia Mushroom (Bag)\",\n",
    "    \"金针菇(袋)(3)\": \"Enoki Mushroom (Bag, 3 Pieces)\",\n",
    "    \"金针菇(袋)(2)\": \"Enoki Mushroom (Bag, 2 Pieces)\",\n",
    "    \"金针菇(盒)\": \"Enoki Mushroom (Box)\",\n",
    "    \"白玉菇(2)\": \"White Jade Mushroom (2 Pieces)\",\n",
    "    \"蟹味菇(2)\": \"Crab Mushroom (2 Pieces)\",\n",
    "    \"白玉菇(盒)\": \"White Jade Mushroom (Box)\",\n",
    "    \"蟹味菇(盒)\": \"Crab Mushroom (Box)\",\n",
    "    \"海鲜菇(袋)(4)\": \"Seafood Mushroom (Bag, 4 Pieces)\",\n",
    "    \"海鲜菇(包)\": \"Seafood Mushroom (Pack)\",\n",
    "    \"海鲜菇(袋)(3)\": \"Seafood Mushroom (Bag, 3 Pieces)\",\n",
    "    \"虫草花(盒)(2)\": \"Cordyceps Flower (Box, 2 Pieces)\",\n",
    "    \"和丰阳光海鲜菇(包)\": \"Hefeng Sunshine Seafood Mushroom (Pack)\"\n",
    "}\n",
    "\n"
   ]
  },
  {
   "cell_type": "code",
   "execution_count": null,
   "metadata": {},
   "outputs": [],
   "source": [
    "merch_info.rename(columns={'item_name': 'item_name_chinese'}, inplace=True)\n",
    "merch_info['item_name_chinese'] = merch_info['item_name_chinese'].apply(lambda x: x.replace(' ', ''))\n",
    "merch_info['item_name'] = merch_info['item_name_chinese'].apply(lambda x: item_names_translation[x])"
   ]
  },
  {
   "cell_type": "code",
   "execution_count": 42,
   "metadata": {},
   "outputs": [
    {
     "name": "stdout",
     "output_type": "stream",
     "text": [
      "['花叶类', '花菜类', '水生根茎类', '茄类', '辣椒类', '食用菌']\n"
     ]
    }
   ],
   "source": [
    "category_names = merch_info['category_name'].unique().tolist()\n",
    "print(category_names)\n",
    "\n",
    "category_names_translation = {\n",
    "    \"花叶类\": \"Leafy Greens\",\n",
    "    \"花菜类\": \"Cauliflower\",\n",
    "    \"水生根茎类\": \"Aquatic Roots and Tubers\",\n",
    "    \"茄类\": \"Solanaceous Vegetables\",\n",
    "    \"辣椒类\": \"Chili Peppers\",\n",
    "    \"食用菌\": \"Edible Mushrooms\"\n",
    "}"
   ]
  },
  {
   "cell_type": "code",
   "execution_count": 43,
   "metadata": {},
   "outputs": [],
   "source": [
    "merch_info.rename(columns={'category_name': 'category_name_chinese'}, inplace=True)\n",
    "merch_info['category_name_chinese'] = merch_info['category_name_chinese'].apply(lambda x: x.replace(' ', ''))\n",
    "merch_info['category_name'] = merch_info['category_name_chinese'].apply(lambda x: category_names_translation[x])"
   ]
  },
  {
   "cell_type": "code",
   "execution_count": 45,
   "metadata": {},
   "outputs": [],
   "source": [
    "merch_info.to_csv('../data/merchandise_info.csv', index=False)"
   ]
  },
  {
   "cell_type": "markdown",
   "metadata": {},
   "source": [
    "## sales_history"
   ]
  },
  {
   "cell_type": "code",
   "execution_count": 22,
   "metadata": {},
   "outputs": [],
   "source": [
    "sales = pd.read_excel('../data/historical_transactions.xlsx')"
   ]
  },
  {
   "cell_type": "code",
   "execution_count": 52,
   "metadata": {},
   "outputs": [],
   "source": [
    "sales.columns = ['date', 'transaction_time', 'item_ID', 'quantity(kg)', 'sales_price(CNY/kg)', 'sales_type', 'discount']"
   ]
  },
  {
   "cell_type": "code",
   "execution_count": 50,
   "metadata": {},
   "outputs": [
    {
     "name": "stdout",
     "output_type": "stream",
     "text": [
      "['销售', '退货']\n"
     ]
    }
   ],
   "source": [
    "print(sales['sales_type'].unique().tolist())\n",
    "sales_type_translation = {\"销售\": \"Sales\", \"退货\": \"Returns\"}\n",
    "discounts = {\"是\":\"Y\", \"否\":\"N\"}\n",
    "\n",
    "sales['sales_type'] = sales['sales_type'].apply(lambda x: sales_type_translation[x])\n",
    "sales['discount'] = sales['discount'].apply(lambda x: discounts[x])"
   ]
  },
  {
   "cell_type": "code",
   "execution_count": 54,
   "metadata": {},
   "outputs": [],
   "source": [
    "sales.to_csv('../data/historical_transactions.csv', index=False)"
   ]
  },
  {
   "cell_type": "markdown",
   "metadata": {},
   "source": [
    "## loss_rate"
   ]
  },
  {
   "cell_type": "code",
   "execution_count": 58,
   "metadata": {},
   "outputs": [],
   "source": [
    "loss_rate = pd.read_csv('../data/loss_rate.csv')"
   ]
  },
  {
   "cell_type": "code",
   "execution_count": 60,
   "metadata": {},
   "outputs": [],
   "source": [
    "loss_rate.rename(columns={'item_name': 'item_name_chinese'}, inplace=True)\n",
    "loss_rate['item_name_chinese'] = loss_rate['item_name_chinese'].apply(lambda x: x.replace(' ', ''))\n",
    "loss_rate['item_name'] = loss_rate['item_name_chinese'].apply(lambda x: item_names_translation[x])"
   ]
  },
  {
   "cell_type": "code",
   "execution_count": 61,
   "metadata": {},
   "outputs": [],
   "source": [
    "loss_rate.to_csv('../data/loss_rate.csv', index=False)"
   ]
  },
  {
   "cell_type": "markdown",
   "metadata": {},
   "source": [
    "## category_loss_rate"
   ]
  },
  {
   "cell_type": "code",
   "execution_count": 62,
   "metadata": {},
   "outputs": [],
   "source": [
    "category_loss_rate = pd.read_csv('../data/category_loss_rate.csv')"
   ]
  },
  {
   "cell_type": "code",
   "execution_count": 64,
   "metadata": {},
   "outputs": [],
   "source": [
    "category_loss_rate.rename(columns={'category_name': 'category_name_chinese'}, inplace=True)\n",
    "category_loss_rate['category_name_chinese'] = category_loss_rate['category_name_chinese'].apply(lambda x: x.replace(' ', ''))\n",
    "category_loss_rate['category_name'] = category_loss_rate['category_name_chinese'].apply(lambda x: category_names_translation[x])"
   ]
  },
  {
   "cell_type": "code",
   "execution_count": 66,
   "metadata": {},
   "outputs": [],
   "source": [
    "category_loss_rate.to_csv('../data/category_loss_rate.csv', index=False)"
   ]
  }
 ],
 "metadata": {
  "kernelspec": {
   "display_name": "base",
   "language": "python",
   "name": "python3"
  },
  "language_info": {
   "codemirror_mode": {
    "name": "ipython",
    "version": 3
   },
   "file_extension": ".py",
   "mimetype": "text/x-python",
   "name": "python",
   "nbconvert_exporter": "python",
   "pygments_lexer": "ipython3",
   "version": "3.8.5"
  }
 },
 "nbformat": 4,
 "nbformat_minor": 2
}

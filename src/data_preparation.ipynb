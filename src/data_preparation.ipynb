{
 "cells": [
  {
   "cell_type": "code",
   "execution_count": 1,
   "metadata": {},
   "outputs": [],
   "source": [
    "import pandas as pd\n",
    "import numpy as np\n",
    "import matplotlib.pyplot as plt\n",
    "import seaborn as sns\n",
    "import os"
   ]
  },
  {
   "cell_type": "code",
   "execution_count": 2,
   "metadata": {},
   "outputs": [],
   "source": [
    "merchandise_info = pd.read_csv('../data/merchandise_info.csv')\n",
    "wholesale_prices = pd.read_csv('../data/wholesale_price.csv')\n",
    "sales_history = pd.read_csv('../data/sales_history.csv')\n",
    "\n",
    "sales_history['date'] = pd.to_datetime(sales_history['date'])\n",
    "wholesale_prices['date'] = pd.to_datetime(wholesale_prices['date'])"
   ]
  },
  {
   "cell_type": "markdown",
   "metadata": {},
   "source": [
    "### missing values"
   ]
  },
  {
   "cell_type": "code",
   "execution_count": 3,
   "metadata": {},
   "outputs": [
    {
     "name": "stdout",
     "output_type": "stream",
     "text": [
      "date                0\n",
      "transaction_time    0\n",
      "item_ID             0\n",
      "quantity            0\n",
      "sales_price         0\n",
      "sales_type          0\n",
      "discount            0\n",
      "dtype: int64\n",
      "date               0\n",
      "item_ID            0\n",
      "wholesale_price    0\n",
      "dtype: int64\n"
     ]
    }
   ],
   "source": [
    "print(sales_history.isna().sum())\n",
    "print(wholesale_prices.isna().sum())"
   ]
  },
  {
   "cell_type": "markdown",
   "metadata": {},
   "source": [
    "### outliers and anomalies"
   ]
  },
  {
   "cell_type": "code",
   "execution_count": 5,
   "metadata": {},
   "outputs": [
    {
     "name": "stdout",
     "output_type": "stream",
     "text": [
      "0.01\n",
      "0.1\n",
      "0.003\n"
     ]
    },
    {
     "data": {
      "image/png": "[encoded data removed]",
      "text/plain": [
       "<Figure size 1152x432 with 3 Axes>"
      ]
     },
     "metadata": {
      "needs_background": "light"
     },
     "output_type": "display_data"
    }
   ],
   "source": [
    "# filter out non-sales data\n",
    "sales_history = sales_history[sales_history['sales_type']=='Sales']\n",
    "\n",
    "print(wholesale_prices['wholesale_price'].min())\n",
    "print(sales_history['sales_price'].min())\n",
    "print(sales_history['quantity'].min())\n",
    "\n",
    "fig, ax = plt.subplots(1,3,figsize=(16, 6))\n",
    "sns.boxplot(y = wholesale_prices['wholesale_price'], ax=ax[0])\n",
    "sns.boxplot(y = sales_history['sales_price'], ax=ax[1])\n",
    "sns.boxplot(y = sales_history['quantity'], ax=ax[2])\n",
    "\n",
    "plt.show()"
   ]
  },
  {
   "cell_type": "markdown",
   "metadata": {},
   "source": [
    "The outcome shows there is no negative value in prices and quantities, but outliers need to be futher investigated"
   ]
  },
  {
   "cell_type": "markdown",
   "metadata": {},
   "source": [
    "### replace outliers in price"
   ]
  },
  {
   "cell_type": "code",
   "execution_count": 7,
   "metadata": {},
   "outputs": [],
   "source": [
    "# replace outliers in wholesale price with the average price of 2 weeks before and after\n",
    "item_IDs = wholesale_prices['item_ID'].unique()\n",
    "for item_ID in item_IDs:\n",
    "    item_df = wholesale_prices[wholesale_prices['item_ID']==item_ID]\n",
    "\n",
    "    median = item_df['wholesale_price'].median()\n",
    "    upper_quartile = item_df['wholesale_price'].quantile(0.75)\n",
    "    lower_quartile = item_df['wholesale_price'].quantile(0.25)\n",
    "    IQR = upper_quartile - lower_quartile\n",
    "    \n",
    "    outlier_idx = item_df[(item_df['wholesale_price'] > upper_quartile + 3*IQR) | (item_df['wholesale_price'] < lower_quartile - 3*IQR) | (item_df['wholesale_price']<0.2)].index\n",
    "\n",
    "    for idx in outlier_idx:\n",
    "        d = item_df.loc[idx,'date']\n",
    "        nearest_idx = item_df[(item_df['date']<= d + pd.DateOffset(14)) & (item_df['date']>= d - pd.DateOffset(14))].index\n",
    "        normal_nearest_idx = list(set(nearest_idx) - set(outlier_idx))\n",
    "\n",
    "        if len(normal_nearest_idx) == 0:\n",
    "            replace_value = median\n",
    "        else:\n",
    "            replace_value = item_df.loc[normal_nearest_idx,'wholesale_price'].mean()\n",
    "        wholesale_prices.loc[idx,'wholesale_price'] = replace_value    "
   ]
  },
  {
   "cell_type": "code",
   "execution_count": 6,
   "metadata": {},
   "outputs": [],
   "source": [
    "# replace outliers in sale price with the average price of 15 transactions before and after\n",
    "sales_history = sales_history.sort_values(by=['item_ID','date','transaction_time'])\n",
    "item_IDs = sales_history['item_ID'].unique()\n",
    "\n",
    "for item_ID in item_IDs:\n",
    "    item_df = sales_history[sales_history['item_ID']==item_ID]\n",
    "\n",
    "    median = item_df['sales_price'].median()\n",
    "    upper_quartile = item_df['sales_price'].quantile(0.75)\n",
    "    lower_quartile = item_df['sales_price'].quantile(0.25)\n",
    "    IQR = upper_quartile - lower_quartile\n",
    "    \n",
    "    outlier_idx = item_df[(item_df['sales_price'] > upper_quartile + 3*IQR) | (item_df['sales_price'] < lower_quartile - 3*IQR) | (item_df['sales_price']<=0.5)].index\n",
    "\n",
    "    for idx in outlier_idx:\n",
    "        d = item_df.loc[idx,'date']\n",
    "\n",
    "        nearest_idx = range(idx-15,idx+15, 1)\n",
    "        normal_nearest_idx = list(set(nearest_idx) - set(outlier_idx))\n",
    "        normal_nearest_idx = [i for i in normal_nearest_idx if i in item_df.index]\n",
    "\n",
    "        if len(normal_nearest_idx) == 0:\n",
    "            replace_value = median\n",
    "        else:\n",
    "            replace_value = item_df.loc[normal_nearest_idx,'sales_price'].mean()\n",
    "        sales_history.loc[idx,'sales_price'] = replace_value"
   ]
  },
  {
   "cell_type": "code",
   "execution_count": 9,
   "metadata": {},
   "outputs": [],
   "source": [
    "sales_history = sales_history.merge(merchandise_info, on='item_ID', how='left')\n",
    "sales_history = sales_history.merge(wholesale_prices, on=['date','item_ID'], how='left')\n",
    "wholesale_prices = wholesale_prices.merge(merchandise_info, on='item_ID', how='left')"
   ]
  },
  {
   "cell_type": "code",
   "execution_count": null,
   "metadata": {},
   "outputs": [],
   "source": [
    "wholesale_prices.to_csv('../data/processed_wholesale_prices.csv',index=False)"
   ]
  },
  {
   "cell_type": "markdown",
   "metadata": {},
   "source": [
    "### Sale features"
   ]
  },
  {
   "cell_type": "code",
   "execution_count": 10,
   "metadata": {},
   "outputs": [],
   "source": [
    "# binarize discount\n",
    "sales_history['discount'] = sales_history['discount'].replace({'Y':1, 'N':0})\n",
    "\n",
    "# calculate sales profit\n",
    "sales_history['sales_profit'] = (sales_history['sales_price'] - sales_history['wholesale_price']) * sales_history['quantity']\n",
    "\n",
    "sales_history['cost'] = sales_history['wholesale_price'] * sales_history['quantity']\n",
    "\n",
    "sales_history['markup_rate'] = (sales_history['sales_price']-sales_history['wholesale_price']) / sales_history['wholesale_price']"
   ]
  },
  {
   "cell_type": "markdown",
   "metadata": {},
   "source": [
    "### Time features: date, week, month, season"
   ]
  },
  {
   "cell_type": "code",
   "execution_count": 11,
   "metadata": {},
   "outputs": [],
   "source": [
    "sales_history['date'] = pd.to_datetime(sales_history['date'])\n",
    "sales_history['season'] = sales_history['date'].dt.month%12 // 3 + 1 # season divisions: (12,1,2); (3,4,5); (6,7,8); (9,10,11)\n",
    "sales_history['month'] = sales_history['date'].dt.month\n",
    "sales_history['day_of_week'] = sales_history['date'].dt.day_of_week + 1 # to make Monday as 1, Sunday as 7"
   ]
  },
  {
   "cell_type": "code",
   "execution_count": 12,
   "metadata": {},
   "outputs": [],
   "source": [
    "sales_history.drop(columns=['sales_type','item_name_chinese','category_name_chinese'], inplace=True)\n",
    "sales_history.to_csv('../data/processed_sales_history.csv',index=False)"
   ]
  },
  {
   "cell_type": "markdown",
   "metadata": {},
   "source": [
    "### Group by date, category"
   ]
  },
  {
   "cell_type": "code",
   "execution_count": 13,
   "metadata": {},
   "outputs": [
    {
     "data": {
      "text/html": [
       "<div>\n",
       "<style scoped>\n",
       "    .dataframe tbody tr th:only-of-type {\n",
       "        vertical-align: middle;\n",
       "    }\n",
       "\n",
       "    .dataframe tbody tr th {\n",
       "        vertical-align: top;\n",
       "    }\n",
       "\n",
       "    .dataframe thead tr th {\n",
       "        text-align: left;\n",
       "    }\n",
       "\n",
       "    .dataframe thead tr:last-of-type th {\n",
       "        text-align: right;\n",
       "    }\n",
       "</style>\n",
       "<table border=\"1\" class=\"dataframe\">\n",
       "  <thead>\n",
       "    <tr>\n",
       "      <th></th>\n",
       "      <th colspan=\"6\" halign=\"left\">avg_profit_rate</th>\n",
       "      <th colspan=\"4\" halign=\"left\">cost_sum</th>\n",
       "      <th>...</th>\n",
       "      <th colspan=\"4\" halign=\"left\">quantity_sum</th>\n",
       "      <th colspan=\"6\" halign=\"left\">sales_profit_sum</th>\n",
       "    </tr>\n",
       "    <tr>\n",
       "      <th>category_name</th>\n",
       "      <th>Aquatic Roots and Tubers</th>\n",
       "      <th>Cauliflower</th>\n",
       "      <th>Chili Peppers</th>\n",
       "      <th>Edible Mushrooms</th>\n",
       "      <th>Leafy Greens</th>\n",
       "      <th>Solanaceous Vegetables</th>\n",
       "      <th>Aquatic Roots and Tubers</th>\n",
       "      <th>Cauliflower</th>\n",
       "      <th>Chili Peppers</th>\n",
       "      <th>Edible Mushrooms</th>\n",
       "      <th>...</th>\n",
       "      <th>Chili Peppers</th>\n",
       "      <th>Edible Mushrooms</th>\n",
       "      <th>Leafy Greens</th>\n",
       "      <th>Solanaceous Vegetables</th>\n",
       "      <th>Aquatic Roots and Tubers</th>\n",
       "      <th>Cauliflower</th>\n",
       "      <th>Chili Peppers</th>\n",
       "      <th>Edible Mushrooms</th>\n",
       "      <th>Leafy Greens</th>\n",
       "      <th>Solanaceous Vegetables</th>\n",
       "    </tr>\n",
       "    <tr>\n",
       "      <th>date</th>\n",
       "      <th></th>\n",
       "      <th></th>\n",
       "      <th></th>\n",
       "      <th></th>\n",
       "      <th></th>\n",
       "      <th></th>\n",
       "      <th></th>\n",
       "      <th></th>\n",
       "      <th></th>\n",
       "      <th></th>\n",
       "      <th></th>\n",
       "      <th></th>\n",
       "      <th></th>\n",
       "      <th></th>\n",
       "      <th></th>\n",
       "      <th></th>\n",
       "      <th></th>\n",
       "      <th></th>\n",
       "      <th></th>\n",
       "      <th></th>\n",
       "      <th></th>\n",
       "    </tr>\n",
       "  </thead>\n",
       "  <tbody>\n",
       "    <tr>\n",
       "      <th>2020-07-01</th>\n",
       "      <td>0.569336</td>\n",
       "      <td>0.512327</td>\n",
       "      <td>0.862467</td>\n",
       "      <td>0.603026</td>\n",
       "      <td>0.516393</td>\n",
       "      <td>0.221723</td>\n",
       "      <td>44.78568</td>\n",
       "      <td>395.83628</td>\n",
       "      <td>408.05555</td>\n",
       "      <td>229.94141</td>\n",
       "      <td>...</td>\n",
       "      <td>76.715</td>\n",
       "      <td>35.365</td>\n",
       "      <td>205.402</td>\n",
       "      <td>35.374</td>\n",
       "      <td>25.49812</td>\n",
       "      <td>202.79772</td>\n",
       "      <td>351.93465</td>\n",
       "      <td>138.66059</td>\n",
       "      <td>512.10105</td>\n",
       "      <td>32.08965</td>\n",
       "    </tr>\n",
       "    <tr>\n",
       "      <th>2020-07-02</th>\n",
       "      <td>0.627912</td>\n",
       "      <td>0.585764</td>\n",
       "      <td>0.777084</td>\n",
       "      <td>0.708050</td>\n",
       "      <td>0.707243</td>\n",
       "      <td>1.161231</td>\n",
       "      <td>32.63124</td>\n",
       "      <td>344.33378</td>\n",
       "      <td>376.85583</td>\n",
       "      <td>354.74897</td>\n",
       "      <td>...</td>\n",
       "      <td>66.064</td>\n",
       "      <td>48.510</td>\n",
       "      <td>198.362</td>\n",
       "      <td>32.199</td>\n",
       "      <td>20.48956</td>\n",
       "      <td>201.69822</td>\n",
       "      <td>292.84857</td>\n",
       "      <td>251.18003</td>\n",
       "      <td>583.96795</td>\n",
       "      <td>92.46514</td>\n",
       "    </tr>\n",
       "    <tr>\n",
       "      <th>2020-07-03</th>\n",
       "      <td>0.428204</td>\n",
       "      <td>0.585385</td>\n",
       "      <td>0.669062</td>\n",
       "      <td>0.749383</td>\n",
       "      <td>0.670679</td>\n",
       "      <td>0.379125</td>\n",
       "      <td>53.69892</td>\n",
       "      <td>312.45916</td>\n",
       "      <td>401.82115</td>\n",
       "      <td>312.27863</td>\n",
       "      <td>...</td>\n",
       "      <td>64.253</td>\n",
       "      <td>42.442</td>\n",
       "      <td>191.779</td>\n",
       "      <td>35.896</td>\n",
       "      <td>22.99408</td>\n",
       "      <td>182.90884</td>\n",
       "      <td>268.84345</td>\n",
       "      <td>234.01637</td>\n",
       "      <td>564.58894</td>\n",
       "      <td>53.94768</td>\n",
       "    </tr>\n",
       "    <tr>\n",
       "      <th>2020-07-04</th>\n",
       "      <td>0.557864</td>\n",
       "      <td>0.535154</td>\n",
       "      <td>0.779148</td>\n",
       "      <td>0.669301</td>\n",
       "      <td>0.619105</td>\n",
       "      <td>0.841817</td>\n",
       "      <td>76.22823</td>\n",
       "      <td>457.40442</td>\n",
       "      <td>464.50121</td>\n",
       "      <td>346.67418</td>\n",
       "      <td>...</td>\n",
       "      <td>81.282</td>\n",
       "      <td>47.262</td>\n",
       "      <td>236.587</td>\n",
       "      <td>57.067</td>\n",
       "      <td>42.52497</td>\n",
       "      <td>244.78158</td>\n",
       "      <td>361.91539</td>\n",
       "      <td>232.02942</td>\n",
       "      <td>704.10491</td>\n",
       "      <td>149.64214</td>\n",
       "    </tr>\n",
       "    <tr>\n",
       "      <th>2020-07-05</th>\n",
       "      <td>0.845018</td>\n",
       "      <td>0.498382</td>\n",
       "      <td>0.707881</td>\n",
       "      <td>0.700236</td>\n",
       "      <td>0.644195</td>\n",
       "      <td>0.654603</td>\n",
       "      <td>21.78298</td>\n",
       "      <td>465.82392</td>\n",
       "      <td>595.02793</td>\n",
       "      <td>430.89539</td>\n",
       "      <td>...</td>\n",
       "      <td>98.496</td>\n",
       "      <td>73.213</td>\n",
       "      <td>223.899</td>\n",
       "      <td>61.816</td>\n",
       "      <td>18.40702</td>\n",
       "      <td>232.15808</td>\n",
       "      <td>421.20867</td>\n",
       "      <td>301.72841</td>\n",
       "      <td>616.37082</td>\n",
       "      <td>162.74564</td>\n",
       "    </tr>\n",
       "  </tbody>\n",
       "</table>\n",
       "<p>5 rows × 24 columns</p>\n",
       "</div>"
      ],
      "text/plain": [
       "                       avg_profit_rate                            \\\n",
       "category_name Aquatic Roots and Tubers Cauliflower Chili Peppers   \n",
       "date                                                               \n",
       "2020-07-01                    0.569336    0.512327      0.862467   \n",
       "2020-07-02                    0.627912    0.585764      0.777084   \n",
       "2020-07-03                    0.428204    0.585385      0.669062   \n",
       "2020-07-04                    0.557864    0.535154      0.779148   \n",
       "2020-07-05                    0.845018    0.498382      0.707881   \n",
       "\n",
       "                                                                    \\\n",
       "category_name Edible Mushrooms Leafy Greens Solanaceous Vegetables   \n",
       "date                                                                 \n",
       "2020-07-01            0.603026     0.516393               0.221723   \n",
       "2020-07-02            0.708050     0.707243               1.161231   \n",
       "2020-07-03            0.749383     0.670679               0.379125   \n",
       "2020-07-04            0.669301     0.619105               0.841817   \n",
       "2020-07-05            0.700236     0.644195               0.654603   \n",
       "\n",
       "                              cost_sum                            \\\n",
       "category_name Aquatic Roots and Tubers Cauliflower Chili Peppers   \n",
       "date                                                               \n",
       "2020-07-01                    44.78568   395.83628     408.05555   \n",
       "2020-07-02                    32.63124   344.33378     376.85583   \n",
       "2020-07-03                    53.69892   312.45916     401.82115   \n",
       "2020-07-04                    76.22823   457.40442     464.50121   \n",
       "2020-07-05                    21.78298   465.82392     595.02793   \n",
       "\n",
       "                                ...  quantity_sum                   \\\n",
       "category_name Edible Mushrooms  ... Chili Peppers Edible Mushrooms   \n",
       "date                            ...                                  \n",
       "2020-07-01           229.94141  ...        76.715           35.365   \n",
       "2020-07-02           354.74897  ...        66.064           48.510   \n",
       "2020-07-03           312.27863  ...        64.253           42.442   \n",
       "2020-07-04           346.67418  ...        81.282           47.262   \n",
       "2020-07-05           430.89539  ...        98.496           73.213   \n",
       "\n",
       "                                                          sales_profit_sum  \\\n",
       "category_name Leafy Greens Solanaceous Vegetables Aquatic Roots and Tubers   \n",
       "date                                                                         \n",
       "2020-07-01         205.402                 35.374                 25.49812   \n",
       "2020-07-02         198.362                 32.199                 20.48956   \n",
       "2020-07-03         191.779                 35.896                 22.99408   \n",
       "2020-07-04         236.587                 57.067                 42.52497   \n",
       "2020-07-05         223.899                 61.816                 18.40702   \n",
       "\n",
       "                                                                       \\\n",
       "category_name Cauliflower Chili Peppers Edible Mushrooms Leafy Greens   \n",
       "date                                                                    \n",
       "2020-07-01      202.79772     351.93465        138.66059    512.10105   \n",
       "2020-07-02      201.69822     292.84857        251.18003    583.96795   \n",
       "2020-07-03      182.90884     268.84345        234.01637    564.58894   \n",
       "2020-07-04      244.78158     361.91539        232.02942    704.10491   \n",
       "2020-07-05      232.15808     421.20867        301.72841    616.37082   \n",
       "\n",
       "                                      \n",
       "category_name Solanaceous Vegetables  \n",
       "date                                  \n",
       "2020-07-01                  32.08965  \n",
       "2020-07-02                  92.46514  \n",
       "2020-07-03                  53.94768  \n",
       "2020-07-04                 149.64214  \n",
       "2020-07-05                 162.74564  \n",
       "\n",
       "[5 rows x 24 columns]"
      ]
     },
     "execution_count": 13,
     "metadata": {},
     "output_type": "execute_result"
    }
   ],
   "source": [
    "daily_category_sales = sales_history.groupby(by=['date','category_name']).agg({'quantity':'sum', 'sales_profit':'sum', 'cost':'sum'})\n",
    "\n",
    "daily_category_sales.columns = ['quantity_sum', 'sales_profit_sum', 'cost_sum']\n",
    "\n",
    "daily_category_sales['avg_profit_rate'] = daily_category_sales['sales_profit_sum'] / daily_category_sales['cost_sum']\n",
    "\n",
    "daily_category_sales = daily_category_sales.pivot_table(index='date', columns='category_name', values=['quantity_sum','sales_profit_sum','cost_sum','avg_profit_rate'])\n",
    "\n",
    "#daily_category_sales = daily_category_sales.reset_index()\n",
    "daily_category_sales.head()"
   ]
  },
  {
   "cell_type": "code",
   "execution_count": 14,
   "metadata": {},
   "outputs": [],
   "source": [
    "daily_category_sales.to_csv('../data/daily_category_sales.csv')\n",
    "\n",
    "# specify header and index column when reading back\n",
    "# pd.read_csv('../data/daily_category_sales.csv', header=[0,1], index_col=0)"
   ]
  },
  {
   "cell_type": "markdown",
   "metadata": {},
   "source": [
    "### Group by date, product"
   ]
  },
  {
   "cell_type": "code",
   "execution_count": 23,
   "metadata": {},
   "outputs": [],
   "source": [
    "daily_item_sales = sales_history.groupby(by=['date','item_ID']).agg({'quantity':'sum', 'sales_profit':'sum', 'cost':'sum'})\n",
    "daily_item_sales = daily_item_sales.reset_index()\n",
    "daily_item_sales['avg_profit_rate'] = daily_item_sales['sales_profit'] / daily_item_sales['cost']\n",
    "daily_item_sales = daily_item_sales.merge(wholesale_prices, on=['date','item_ID'], how='left')\n",
    "daily_item_sales.drop(columns=['item_name_chinese','category_name_chinese'], inplace=True)"
   ]
  },
  {
   "cell_type": "code",
   "execution_count": 24,
   "metadata": {},
   "outputs": [],
   "source": [
    "daily_item_sales.to_csv('../data/daily_item_sales.csv',index=False)"
   ]
  }
 ],
 "metadata": {
  "kernelspec": {
   "display_name": "base",
   "language": "python",
   "name": "python3"
  },
  "language_info": {
   "codemirror_mode": {
    "name": "ipython",
    "version": 3
   },
   "file_extension": ".py",
   "mimetype": "text/x-python",
   "name": "python",
   "nbconvert_exporter": "python",
   "pygments_lexer": "ipython3",
   "version": "3.8.5"
  }
 },
 "nbformat": 4,
 "nbformat_minor": 2
}

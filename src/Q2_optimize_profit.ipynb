{
 "cells": [
  {
   "cell_type": "code",
   "execution_count": null,
   "metadata": {},
   "outputs": [],
   "source": [
    "import pandas as pd\n",
    "import numpy as np\n",
    "import matplotlib.pyplot as plt\n",
    "import seaborn as sns\n",
    "import pyswarms as ps\n",
    "# from pyswarms.utils.functions import single_obj as fx\n",
    "# from pyswarms.utils.plotters import plot_cost_history\n",
    "from IPython.display import display"
   ]
  },
  {
   "cell_type": "markdown",
   "metadata": {},
   "source": [
    "## Load previous results"
   ]
  },
  {
   "cell_type": "markdown",
   "metadata": {},
   "source": [
    "### load price elasticity"
   ]
  },
  {
   "cell_type": "code",
   "execution_count": null,
   "metadata": {},
   "outputs": [],
   "source": [
    "categories_enc =  {'Aquatic Roots and Tubers':'1', 'Cauliflower':'2' ,'Chili Peppers':'3', 'Edible Mushrooms':'4', 'Leafy Greens':'5', 'Solanaceous Vegetables':'6'}\n",
    "\n",
    "price_elasticity = []\n",
    "\n",
    "for category in categories_enc.keys():\n",
    "    category = category.replace(\" \", \"_\")\n",
    "    coef_df = pd.read_csv(f'../results/reg_coef_{category}.csv',index_col=0)\n",
    "\n",
    "    paddings_ = list(set(range(1,7)) - set([int(idx.split('_')[-1]) for idx in coef_df.index if 'avg_sale_price' in idx]))\n",
    "    for padding in paddings_:\n",
    "        coef_df.loc[f'avg_sale_price_{padding}','coef'] = 0\n",
    "    coef_df = coef_df.loc[[idx for idx in coef_df.index if 'avg_sale_price' in idx],['coef']]\n",
    "    coef_df.sort_index(inplace=True)\n",
    "    price_elasticity.append(coef_df['coef'].values)\n",
    "\n",
    "price_elasticity = np.array(price_elasticity)\n",
    "print(price_elasticity.shape)\n",
    "# price_elasticity[i][j] =  the demand elasticity of category i to price of category j"
   ]
  },
  {
   "cell_type": "markdown",
   "metadata": {},
   "source": [
    "### load prediction of sale volume, wholesale price"
   ]
  },
  {
   "cell_type": "code",
   "execution_count": null,
   "metadata": {},
   "outputs": [],
   "source": [
    "pred_sale_volume = np.load('../results/pred_sale_volume.npy')\n",
    "pred_wholesale_price = np.load('../results/pred_wholesale_price.npy')\n",
    "print(pred_sale_volume.shape, pred_wholesale_price.shape)\n",
    "# pred_XX[i][j] = the predicted sale volume/wholesale price of day i of category j"
   ]
  },
  {
   "cell_type": "code",
   "execution_count": null,
   "metadata": {},
   "outputs": [],
   "source": [
    "daily_category_sales = pd.read_csv('../data/daily_category_sales.csv',index_col=0, header=[0,1])\n",
    "recent_sales = daily_category_sales.iloc[-7:,:]\n",
    "recent_prices = (recent_sales['cost_sum'] + recent_sales['sales_profit_sum']) / recent_sales['quantity_sum']\n",
    "avg_recent_prices = recent_prices.mean().values\n",
    "\n",
    "discounts = [0.7]*6\n",
    "spoilage_rates = [0.1365, 0.1551, 0.0924, 0.0945, 0.1283, 0.0668]"
   ]
  },
  {
   "cell_type": "markdown",
   "metadata": {},
   "source": [
    "### display profit and profit rate of last week"
   ]
  },
  {
   "cell_type": "code",
   "execution_count": null,
   "metadata": {},
   "outputs": [],
   "source": [
    "display(recent_sales['sales_profit_sum'].sum(axis=1))\n",
    "display(recent_sales['avg_profit_rate'])"
   ]
  },
  {
   "cell_type": "markdown",
   "metadata": {},
   "source": [
    "## Set up rules"
   ]
  },
  {
   "cell_type": "markdown",
   "metadata": {},
   "source": [
    "### Adjust demand volume with estimated Price elasticity of demand\n",
    "\n",
    "$$\n",
    "\\Delta \\ln Q_{k} = \\sum\\limits_{i=1}^m \\beta_{ki} \\Delta \\ln P_{i} \\ ,\\hspace{10pt} \\text{i.e.} \\ \\ln \\frac{Q_k}{Q_{base,k}} = \\sum\\limits_{i=1}^m \\beta_{ki} \\ln \\frac{P_{i}}{P_{base,i}} \\hspace{5pt} (k=1,2,\\cdots,m)\n",
    "$$\n",
    "where $Q_{base}$ is the predict value of LSTM, and $P_{base}$ is last week's average selling price of the category"
   ]
  },
  {
   "cell_type": "code",
   "execution_count": null,
   "metadata": {},
   "outputs": [],
   "source": [
    "def adjust_demand(q_base, p_curr, p_base=avg_recent_prices, p_elasticity=price_elasticity):\n",
    "    \"\"\"\n",
    "    p_base: the base price\n",
    "    p_curr: the current price\n",
    "    q_base: the base demand\n",
    "    p_elasticity: the price elasticity\n",
    "    \"\"\"\n",
    "    q_log_delta = np.matmul(p_elasticity, np.log(p_curr/p_base))\n",
    "\n",
    "    return q_base * np.exp(q_log_delta)"
   ]
  },
  {
   "cell_type": "markdown",
   "metadata": {},
   "source": [
    "### Calculate daily profit"
   ]
  },
  {
   "cell_type": "code",
   "execution_count": null,
   "metadata": {},
   "outputs": [],
   "source": [
    "def daily_profit(profit_rate, q_buyin, \n",
    "                pred_sale_volume=pred_sale_volume, \n",
    "                pred_wholesale_price=pred_wholesale_price, \n",
    "                discounts=discounts, \n",
    "                spoilage_rates=spoilage_rates):\n",
    "\n",
    "    p_buyin = pred_wholesale_price[day] # The external variable day controls the day to forecast\n",
    "    q_demand_pred = pred_sale_volume[day]\n",
    "\n",
    "    p_sale = np.multiply(p_buyin, np.ones(6)+profit_rate)\n",
    "    p_sale_discount = np.multiply(p_sale, discounts)\n",
    "    q_demand_adjusted = adjust_demand(q_base=q_demand_pred, p_curr=p_sale)\n",
    "\n",
    "    q_buyin_normal = np.multiply(q_buyin, (np.array([1]*6)-spoilage_rates))\n",
    "    q_buyin_discount = np.multiply(q_buyin, spoilage_rates)\n",
    "\n",
    "    profit = 0\n",
    "    for idx in range(6):\n",
    "        cost = p_buyin[idx]*q_buyin[idx]\n",
    "        if q_buyin[idx] <= q_demand_adjusted[idx]:\n",
    "            profit += (p_sale[idx]*q_buyin_normal[idx] + p_sale_discount[idx]*q_buyin_discount[idx]) - cost\n",
    "        else:\n",
    "            profit += p_sale[idx]*np.multiply(q_demand_adjusted, (np.array([1]*6)-spoilage_rates))[idx] + \\\n",
    "                p_sale_discount[idx]*np.multiply(q_demand_adjusted, spoilage_rates)[idx] - cost\n",
    "        \n",
    "    return profit"
   ]
  },
  {
   "cell_type": "code",
   "execution_count": null,
   "metadata": {},
   "outputs": [],
   "source": [
    "def objective_func(X): # X: (n_particles, 12) = (particles, concat(profit_rate, buyin_quantity))\n",
    "    profit_list = []\n",
    "    \n",
    "    for i in range(n_particles):\n",
    "        particle_pos = X[i]\n",
    "\n",
    "        profit_rate = particle_pos[:6]\n",
    "        q_buyin = particle_pos[6:]\n",
    "        profit = daily_profit(profit_rate, q_buyin)\n",
    "        profit_list.append(-profit)\n",
    "    \n",
    "    return profit_list"
   ]
  },
  {
   "cell_type": "markdown",
   "metadata": {},
   "source": [
    "## Optimize profit"
   ]
  },
  {
   "cell_type": "markdown",
   "metadata": {},
   "source": [
    "### Initailize particle positions"
   ]
  },
  {
   "cell_type": "code",
   "execution_count": null,
   "metadata": {},
   "outputs": [],
   "source": [
    "# use average value of recent 30 days for initialization\n",
    "print(daily_category_sales['quantity_sum'].iloc[-30:].mean())\n",
    "print(daily_category_sales['avg_profit_rate'].iloc[-30:].mean())"
   ]
  },
  {
   "cell_type": "code",
   "execution_count": null,
   "metadata": {},
   "outputs": [],
   "source": [
    "ini_pos = np.array([0.4, 0.5, 0.7, 0.5, 0.5, 0.6] + [20, 20, 90, 60, 150, 30]) # initialize wholesale prices and sale volume\n",
    "\n",
    "n_particles = 1000\n",
    "n_dimensions = 12\n",
    "lower_bound = np.array([0.1]*6 + [1]*6)\n",
    "upper_bound = np.array([1]*6 + [100,100,250,250,450,100])\n",
    "bounds = (lower_bound, upper_bound)\n",
    "\n",
    "# some particles have the given initial position, while others have random positions\n",
    "weight_ini = 0.3 \n",
    "pos_given = np.random.uniform(low=lower_bound, high=upper_bound, size=(int(n_particles*weight_ini), n_dimensions))\n",
    "pos_given = 0.2 * pos_given + 0.8 * ini_pos\n",
    "pos_random = np.random.uniform(low=lower_bound, high=upper_bound, size=(int(n_particles*(1-weight_ini)), n_dimensions))\n",
    "initial_pos = np.vstack((pos_given, pos_random))"
   ]
  },
  {
   "cell_type": "code",
   "execution_count": null,
   "metadata": {},
   "outputs": [],
   "source": [
    "optim_result = pd.DataFrame(columns=['date', 'profit_rate_1', 'profit_rate_2', 'profit_rate_3', 'profit_rate_4', 'profit_rate_5','profit_rate_6',\n",
    "                            'q_buyin_1', 'q_buyin_2', 'q_buyin_3', 'q_buyin_4','q_buyin_5', 'q_buyin_6',\n",
    "                            'max_profit_pred'])\n",
    "optim_history = []\n",
    "for day in range(7):    \n",
    "    options = {'c1': 0.7, 'c2': 0.5, 'w': 0.9} # hyperparameters of PSO\n",
    "    optimizer = ps.single.GlobalBestPSO(n_particles=n_particles, \n",
    "                                        dimensions=n_dimensions, \n",
    "                                        options=options, \n",
    "                                        bounds=bounds,\n",
    "                                        init_pos=initial_pos,\n",
    "                                        ftol_iter=100,\n",
    "                                        ftol=1e-4,\n",
    "                                        oh_strategy={ \"w\":'exp_decay', \"c1\":'nonlin_mod',\"c2\":'lin_variation'}\n",
    "                                        )\n",
    "\n",
    "    best_position, best_cost = optimizer.optimize(objective_func, iters=1000, verbose=True)\n",
    "\n",
    "    i = optim_result.shape[0]\n",
    "    optim_result.loc[i, 'date'] = pd.to_datetime('2023-07-01') + pd.to_timedelta(i, unit='d')\n",
    "    optim_result.iloc[i,1:-1] = best_cost\n",
    "    optim_result.iloc[i,-1] = -best_position\n",
    "\n",
    "    optim_history.append(optimizer.cost_history)\n",
    "\n",
    "optim_result['date'] = pd.to_datetime(optim_result['date'])\n"
   ]
  },
  {
   "cell_type": "code",
   "execution_count": null,
   "metadata": {},
   "outputs": [],
   "source": [
    "sns.set_theme(style=\"darkgrid\")\n",
    "fig, ax = plt.subplots(2,4,figsize=(24,10), sharex=True, sharey=True)\n",
    "fig.subplots_adjust(hspace=0.4)\n",
    "\n",
    "for day in range(7):\n",
    "    profits = np.array(optim_history[day])*-1\n",
    "    i, j = (day)//4, (day)%4\n",
    "    sns.lineplot(data=profits, ax=ax[i][j])\n",
    "    ax[i][j].set_title(f\"Day {day+1}\")\n",
    "    ax[i][j].set_xlabel(\"Iteration\")\n",
    "    ax[i][j].set_ylabel(\"Profit\")"
   ]
  },
  {
   "cell_type": "code",
   "execution_count": null,
   "metadata": {},
   "outputs": [],
   "source": [
    "optim_result.to_csv('../results/max_profit_results.csv',index=False)"
   ]
  },
  {
   "cell_type": "markdown",
   "metadata": {},
   "source": [
    "## Post-process the optimization results to fit the reality"
   ]
  },
  {
   "cell_type": "code",
   "execution_count": null,
   "metadata": {},
   "outputs": [],
   "source": [
    "raw_res = pd.read_csv('../results/max_profit_results.csv',index_col=0)\n",
    "raw_res.head(10)"
   ]
  },
  {
   "cell_type": "code",
   "execution_count": null,
   "metadata": {},
   "outputs": [],
   "source": [
    "# round sale price to 2 decimal places (0.01 CNY/kg), round wholesale quantity to 1 decimal place (0.1kg)\n",
    "profit_rates = raw_res[[f'profit_rate_{i+1}' for i in range(6)]].values\n",
    "q_buyin = raw_res[[f'q_buyin_{i+1}' for i in range(6)]].values\n",
    "practical_sale_price = np.round((profit_rates + np.ones((7,6))) * pred_wholesale_price, 2)\n",
    "practical_q_buyin = np.round(q_buyin, 1)"
   ]
  },
  {
   "cell_type": "code",
   "execution_count": null,
   "metadata": {},
   "outputs": [],
   "source": [
    "# re-calculate the expected profit\n",
    "expected_profit = []\n",
    "for d in range(7):\n",
    "    q_normal =  practical_q_buyin[d]* (np.ones(6)-spoilage_rates)\n",
    "    q_discount = practical_q_buyin[d]* spoilage_rates\n",
    "    income = np.dot(practical_sale_price[d], q_normal) + np.dot(practical_sale_price[d]*discounts, q_discount)\n",
    "    cost = np.dot(pred_wholesale_price[d], practical_q_buyin[d])\n",
    "    profit = income - cost\n",
    "    expected_profit.append(profit)\n",
    "    \n",
    "expected_profit = np.round(expected_profit, 2)"
   ]
  },
  {
   "cell_type": "code",
   "execution_count": null,
   "metadata": {},
   "outputs": [],
   "source": [
    "processed_res = pd.DataFrame(columns=[f'sale_price_{list(categories_enc.keys())[i]}'.replace(' ','_') for i in range(6)] + [f'q_buyin_{list(categories_enc.keys())[i]}' for i in range(6)] + ['max_profit_pred'], index=raw_res.index)\n",
    "\n",
    "processed_res.iloc[:,:6]=practical_sale_price\n",
    "processed_res.iloc[:,6:12]=practical_q_buyin\n",
    "processed_res.iloc[:,-1]=expected_profit\n",
    "\n",
    "processed_res.head(10)"
   ]
  },
  {
   "cell_type": "code",
   "execution_count": null,
   "metadata": {},
   "outputs": [],
   "source": [
    "processed_res.to_excel('../results/strategy_and_profit_final.xlsx')"
   ]
  }
 ],
 "metadata": {
  "kernelspec": {
   "display_name": "base",
   "language": "python",
   "name": "python3"
  },
  "language_info": {
   "codemirror_mode": {
    "name": "ipython",
    "version": 3
   },
   "file_extension": ".py",
   "mimetype": "text/x-python",
   "name": "python",
   "nbconvert_exporter": "python",
   "pygments_lexer": "ipython3",
   "version": "3.8.5"
  }
 },
 "nbformat": 4,
 "nbformat_minor": 2
}

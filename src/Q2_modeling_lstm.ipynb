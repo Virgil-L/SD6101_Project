{
 "cells": [
  {
   "cell_type": "code",
   "execution_count": 48,
   "metadata": {},
   "outputs": [],
   "source": [
    "import torch\n",
    "from torch import nn\n",
    "import torch.nn.functional as F\n",
    "import torch.optim as optim\n",
    "from torch.utils.data import DataLoader, TensorDataset\n",
    "from sklearn.model_selection import train_test_split\n",
    "import pandas as pd\n",
    "import numpy as np\n",
    "import math\n",
    "import json\n",
    "import matplotlib.pyplot as plt\n",
    "\n",
    "torch.manual_seed(42)\n",
    "device = 'cuda' if torch.cuda.is_available() else 'cpu'"
   ]
  },
  {
   "cell_type": "code",
   "execution_count": 52,
   "metadata": {},
   "outputs": [
    {
     "name": "stdout",
     "output_type": "stream",
     "text": [
      "category_name\n",
      "Aquatic Roots and Tubers    0\n",
      "Cauliflower                 0\n",
      "Chili Peppers               0\n",
      "Edible Mushrooms            0\n",
      "Leafy Greens                0\n",
      "Solanaceous Vegetables      0\n",
      "dtype: int64\n"
     ]
    }
   ],
   "source": [
    "daily_category_sales = pd.read_csv('../data/daily_category_sales.csv', header=[0,1], index_col=0)\n",
    "quantity_data = daily_category_sales['quantity_sum'].copy()\n",
    "print(quantity_data.isna().sum())\n",
    "quantity_data.fillna(0, inplace=True) # use zero to replace NaN"
   ]
  },
  {
   "cell_type": "markdown",
   "metadata": {},
   "source": [
    "# 1. LSTM for sales volume prediction"
   ]
  },
  {
   "cell_type": "markdown",
   "metadata": {},
   "source": [
    "## Build dataset\n",
    "### Use sales quantity of last 30 days to predict sales quantity of next 7 days"
   ]
  },
  {
   "cell_type": "code",
   "execution_count": null,
   "metadata": {},
   "outputs": [],
   "source": [
    "lag = 30\n",
    "X = np.array([np.array(quantity_data.iloc[idx-lag:idx,]) for idx in range(lag, quantity_data.shape[0]-7, 1)])\n",
    "y = np.array([np.array(quantity_data.iloc[idx:idx+7,]) for idx in range(lag, quantity_data.shape[0]-7, 1)])\n",
    "\n",
    "X_train, X_val, y_train, y_val = train_test_split(X, y, test_size=0.3, shuffle=True, random_state=42)\n",
    "\n",
    "X_train_tensor = torch.FloatTensor(X_train).to(device)\n",
    "y_train_tensor = torch.FloatTensor(y_train).to(device)\n",
    "X_val_tensor = torch.FloatTensor(X_val).to(device)\n",
    "y_val_tensor = torch.FloatTensor(y_val).to(device)\n",
    "print(X_train_tensor.shape, y_train_tensor.shape)\n",
    "# (batch, seq_len, input_size)"
   ]
  },
  {
   "cell_type": "markdown",
   "metadata": {},
   "source": [
    "## Configure & initialize model"
   ]
  },
  {
   "cell_type": "code",
   "execution_count": 15,
   "metadata": {},
   "outputs": [],
   "source": [
    "class MultiLSTM(nn.Module):\n",
    "    def __init__(self, input_size, hidden_size, output_size, output_seq_len):\n",
    "        super(MultiLSTM, self).__init__()\n",
    "\n",
    "        self.lstm = nn.LSTM(input_size, hidden_size, batch_first=True)\n",
    "        self.fc = nn.Linear(hidden_size, output_size*output_seq_len)\n",
    "\n",
    "    def forward(self, x):\n",
    "        lstm_out, _ = self.lstm(x)\n",
    "        last_output = lstm_out[:, -1, :]\n",
    "        output = self.fc(last_output)\n",
    "        output = output.view(output.size(0), output_seq_len, output_size)  # 将输出变形为 (batch_size, m, 7)\n",
    "        return output\n"
   ]
  },
  {
   "cell_type": "code",
   "execution_count": 16,
   "metadata": {},
   "outputs": [
    {
     "name": "stdout",
     "output_type": "stream",
     "text": [
      "MultiLSTM(\n",
      "  (lstm): LSTM(6, 256, batch_first=True)\n",
      "  (fc): Linear(in_features=256, out_features=42, bias=True)\n",
      ")\n"
     ]
    }
   ],
   "source": [
    "# Initialize the LSTM model\n",
    "input_size = 6\n",
    "hidden_size = 256\n",
    "num_layers = 2\n",
    "output_size = 6\n",
    "output_seq_len = 7\n",
    "\n",
    "model = MultiLSTM(input_size, hidden_size, output_size, output_seq_len).to(device)\n",
    "print(model)\n",
    "\n",
    "criterion = nn.MSELoss()\n",
    "optimizer = optim.Adam(model.parameters(), lr=0.002)"
   ]
  },
  {
   "cell_type": "markdown",
   "metadata": {},
   "source": [
    "## Training"
   ]
  },
  {
   "cell_type": "code",
   "execution_count": null,
   "metadata": {},
   "outputs": [],
   "source": [
    "# load data in batches\n",
    "dataset = TensorDataset(X_train_tensor, y_train_tensor)\n",
    "batch_size = 128\n",
    "data_loader = DataLoader(dataset, batch_size=batch_size, shuffle=True)\n",
    "n_batch = math.ceil(X_train_tensor.shape[0] / batch_size)\n",
    "\n",
    "train_loss, val_loss = [], [] \n",
    "# train\n",
    "num_epochs = 2000\n",
    "for epoch in range(num_epochs):\n",
    "    epoch_train_loss = 0\n",
    "    model.train()\n",
    "    for X_batch, y_batch in data_loader:\n",
    "        # forward pass\n",
    "        outputs = model(X_batch)\n",
    "\n",
    "        # Compute the RMSE loss\n",
    "        loss = torch.sqrt(criterion(outputs, y_batch))\n",
    "\n",
    "        # backward pass and optimization\n",
    "        optimizer.zero_grad()\n",
    "        loss.backward()\n",
    "        optimizer.step()\n",
    "\n",
    "        epoch_train_loss += loss.item() / n_batch\n",
    "    \n",
    "    # validation\n",
    "    model.eval()\n",
    "    with torch.no_grad():\n",
    "        val_outputs = model(X_val_tensor)\n",
    "        epoch_val_loss = torch.sqrt(criterion(val_outputs, y_val_tensor))\n",
    "\n",
    "    train_loss.append(epoch_train_loss)\n",
    "    val_loss.append(epoch_val_loss.item())\n",
    "\n",
    "    if (epoch+1) % 50 == 0 or epoch == 0:\n",
    "        print(f'Epoch [{epoch+1}/{num_epochs}], Train Loss: {epoch_train_loss:.4f}, Validation Loss: {epoch_val_loss:.4f}')"
   ]
  },
  {
   "cell_type": "code",
   "execution_count": null,
   "metadata": {},
   "outputs": [],
   "source": [
    "fig, ax = plt.subplots(figsize=(12, 8))\n",
    "ax.plot(train_loss, label='Train Loss')\n",
    "ax.plot(val_loss, label='Validation Loss')\n",
    "ax.set_xlabel('Epoch', fontsize=16)\n",
    "ax.set_ylabel('RMSE Loss', fontsize=16)\n",
    "ax.set_title('Train and Validation Loss',fontsize=20)\n",
    "ax.set_ylim(0, 110)\n",
    "ax.legend(fontsize=16)\n",
    "ax.grid(True)\n",
    "plt.show()"
   ]
  },
  {
   "cell_type": "code",
   "execution_count": null,
   "metadata": {},
   "outputs": [],
   "source": [
    "fig.savefig('../figures/lstm1_train_val_loss.png',dpi=600)"
   ]
  },
  {
   "cell_type": "code",
   "execution_count": null,
   "metadata": {},
   "outputs": [],
   "source": [
    "model_config = {\n",
    "    \"input_size\": input_size,\n",
    "    \"hidden_size\": hidden_size,\n",
    "    \"num_layers\": num_layers,\n",
    "    \"output_size\": output_size,\n",
    "    \"fc_size\": 24\n",
    "}\n",
    "\n",
    "with open('../model/lstm1_config.json', 'w') as f:\n",
    "    json.dump(model_config, f)\n",
    "\n",
    "torch.save(model.state_dict(),'../model/lstm1_for_category_sales_volume.pt')"
   ]
  },
  {
   "cell_type": "markdown",
   "metadata": {},
   "source": [
    "## Model Metrics: R-square & RMSE"
   ]
  },
  {
   "cell_type": "code",
   "execution_count": null,
   "metadata": {},
   "outputs": [],
   "source": [
    "from sklearn.metrics import r2_score, mean_squared_error\n",
    "y_pred = model(X_val_tensor).cpu().detach().numpy()\n",
    "y_true = y_val_tensor.cpu().detach().numpy()\n",
    "print(f'R-square: {r2_score(y_true.reshape(-1), y_pred.reshape(-1)):.4f};\\t RMSE: {torch.sqrt(criterion(val_outputs, y_val_tensor)).item():.4f}' )"
   ]
  },
  {
   "cell_type": "markdown",
   "metadata": {},
   "source": [
    "### TODO: Visualize prediction of each category"
   ]
  },
  {
   "cell_type": "code",
   "execution_count": null,
   "metadata": {},
   "outputs": [],
   "source": [
    "# load model weights\n",
    "model = MultiLSTM(input_size, hidden_size, output_size, output_seq_len).to(device)\n",
    "model.load_state_dict(torch.load('../model/lstm1_for_category_sales_volume.pt'))"
   ]
  },
  {
   "cell_type": "code",
   "execution_count": null,
   "metadata": {},
   "outputs": [],
   "source": [
    "X_tensor = torch.FloatTensor(X).to(device)\n",
    "y_tensor = torch.FloatTensor(y).to(device)\n",
    "\n",
    "model.eval()\n",
    "with torch.no_grad():\n",
    "    y_pred_tensor = model(X_tensor)\n",
    "\n",
    "y_true = y_tensor[:,0,:].cpu().detach().numpy().T \n",
    "y_pred = y_pred_tensor[:,0,:].cpu().detach().numpy().T\n",
    "\n",
    "math.sqrt(mean_squared_error(y_true.reshape(-1), y_pred.reshape(-1)))"
   ]
  },
  {
   "cell_type": "code",
   "execution_count": null,
   "metadata": {},
   "outputs": [],
   "source": [
    "import matplotlib.pyplot as plt\n",
    "fig, ax = plt.subplots(figsize=(12, 8))\n",
    "ax.plot(y_true[0].reshape(-1), label='True')\n",
    "ax.plot(y_pred[0].reshape(-1), label='Predicted')"
   ]
  },
  {
   "cell_type": "markdown",
   "metadata": {},
   "source": [
    "# 2. LSTM for wholesale price prediction"
   ]
  },
  {
   "cell_type": "code",
   "execution_count": 66,
   "metadata": {},
   "outputs": [
    {
     "name": "stdout",
     "output_type": "stream",
     "text": [
      "torch.Size([733, 30, 6]) torch.Size([733, 7, 6])\n"
     ]
    }
   ],
   "source": [
    "# average wholesale price\n",
    "price_data = daily_category_sales['cost_sum'] / daily_category_sales['quantity_sum']\n",
    "price_data.fillna(0, inplace=True) \n",
    "\n",
    "lag = 30\n",
    "X = np.array([np.array(price_data.iloc[idx-lag:idx,]) for idx in range(lag, price_data.shape[0]-7, 1)])\n",
    "y = np.array([np.array(price_data.iloc[idx:idx+7,]) for idx in range(lag, price_data.shape[0]-7, 1)])\n",
    "\n",
    "X_train, X_val, y_train, y_val = train_test_split(X, y, test_size=0.3, shuffle=True, random_state=42)\n",
    "\n",
    "X_train_tensor = torch.FloatTensor(X_train).to(device)\n",
    "y_train_tensor = torch.FloatTensor(y_train).to(device)\n",
    "X_val_tensor = torch.FloatTensor(X_val).to(device)\n",
    "y_val_tensor = torch.FloatTensor(y_val).to(device)\n",
    "print(X_train_tensor.shape, y_train_tensor.shape)\n",
    "# (batch, seq_len, input_size)"
   ]
  },
  {
   "cell_type": "code",
   "execution_count": 43,
   "metadata": {},
   "outputs": [
    {
     "name": "stdout",
     "output_type": "stream",
     "text": [
      "MultiLSTM(\n",
      "  (lstm): LSTM(6, 256, batch_first=True)\n",
      "  (fc): Linear(in_features=256, out_features=42, bias=True)\n",
      ")\n"
     ]
    }
   ],
   "source": [
    "model = MultiLSTM(input_size, hidden_size, output_size, output_seq_len).to(device)\n",
    "print(model)\n",
    "\n",
    "criterion = nn.MSELoss()\n",
    "optimizer = optim.Adam(model.parameters(), lr=0.001)"
   ]
  },
  {
   "cell_type": "code",
   "execution_count": 44,
   "metadata": {},
   "outputs": [
    {
     "name": "stdout",
     "output_type": "stream",
     "text": [
      "Epoch [1/1000], Train Loss: 5.5720, Validation Loss: 5.0170\n",
      "Epoch [50/1000], Train Loss: 1.3070, Validation Loss: 1.3013\n",
      "Epoch [100/1000], Train Loss: 0.9475, Validation Loss: 0.9813\n",
      "Epoch [150/1000], Train Loss: 0.8675, Validation Loss: 0.9014\n",
      "Epoch [200/1000], Train Loss: 0.8039, Validation Loss: 0.8240\n",
      "Epoch [250/1000], Train Loss: 0.7494, Validation Loss: 0.7889\n",
      "Epoch [300/1000], Train Loss: 0.7205, Validation Loss: 0.7486\n",
      "Epoch [350/1000], Train Loss: 0.7112, Validation Loss: 0.7424\n",
      "Epoch [400/1000], Train Loss: 0.6716, Validation Loss: 0.7041\n",
      "Epoch [450/1000], Train Loss: 0.6618, Validation Loss: 0.7024\n",
      "Epoch [500/1000], Train Loss: 0.6522, Validation Loss: 0.6923\n",
      "Epoch [550/1000], Train Loss: 0.6453, Validation Loss: 0.6992\n",
      "Epoch [600/1000], Train Loss: 0.6128, Validation Loss: 0.6832\n",
      "Epoch [650/1000], Train Loss: 0.6013, Validation Loss: 0.6767\n",
      "Epoch [700/1000], Train Loss: 0.5858, Validation Loss: 0.6680\n",
      "Epoch [750/1000], Train Loss: 0.5849, Validation Loss: 0.6735\n",
      "Epoch [800/1000], Train Loss: 0.5632, Validation Loss: 0.6735\n",
      "Epoch [850/1000], Train Loss: 0.5448, Validation Loss: 0.6745\n",
      "Epoch [900/1000], Train Loss: 0.5386, Validation Loss: 0.6905\n",
      "Epoch [950/1000], Train Loss: 0.5119, Validation Loss: 0.6807\n",
      "Epoch [1000/1000], Train Loss: 0.5110, Validation Loss: 0.6928\n"
     ]
    }
   ],
   "source": [
    "# load data in batches\n",
    "dataset = TensorDataset(X_train_tensor, y_train_tensor)\n",
    "batch_size = 128\n",
    "data_loader = DataLoader(dataset, batch_size=batch_size, shuffle=True)\n",
    "n_batch = math.ceil(X_train_tensor.shape[0] / batch_size)\n",
    "\n",
    "train_loss, val_loss = [], [] \n",
    "# train\n",
    "num_epochs = 1000\n",
    "for epoch in range(num_epochs):\n",
    "    epoch_train_loss = 0\n",
    "    model.train()\n",
    "    for X_batch, y_batch in data_loader:\n",
    "        # forward pass\n",
    "        outputs = model(X_batch)\n",
    "\n",
    "        # Compute the RMSE loss\n",
    "        loss = torch.sqrt(criterion(outputs, y_batch))\n",
    "\n",
    "        # backward pass and optimization\n",
    "        optimizer.zero_grad()\n",
    "        loss.backward()\n",
    "        optimizer.step()\n",
    "\n",
    "        epoch_train_loss += loss.item() / n_batch\n",
    "    \n",
    "    # validation\n",
    "    model.eval()\n",
    "    with torch.no_grad():\n",
    "        val_outputs = model(X_val_tensor)\n",
    "        epoch_val_loss = torch.sqrt(criterion(val_outputs, y_val_tensor))\n",
    "\n",
    "    train_loss.append(epoch_train_loss)\n",
    "    val_loss.append(epoch_val_loss.item())\n",
    "\n",
    "    if (epoch+1) % 50 == 0 or epoch == 0:\n",
    "        print(f'Epoch [{epoch+1}/{num_epochs}], Train Loss: {epoch_train_loss:.4f}, Validation Loss: {epoch_val_loss:.4f}')\n"
   ]
  },
  {
   "cell_type": "code",
   "execution_count": 45,
   "metadata": {},
   "outputs": [
    {
     "data": {
      "image/png": "[encoded data removed]",
      "text/plain": [
       "<Figure size 864x576 with 1 Axes>"
      ]
     },
     "metadata": {
      "needs_background": "light"
     },
     "output_type": "display_data"
    }
   ],
   "source": [
    "fig, ax = plt.subplots(figsize=(12, 8))\n",
    "ax.plot(train_loss, label='Train Loss')\n",
    "ax.plot(val_loss, label='Validation Loss')\n",
    "ax.set_xlabel('Epoch', fontsize=16)\n",
    "ax.set_ylabel('RMSE Loss', fontsize=16)\n",
    "ax.set_title('Train and Validation Loss',fontsize=20)\n",
    "ax.set_ylim(0, 3)\n",
    "ax.legend(fontsize=16)\n",
    "ax.grid(True)\n",
    "plt.show()"
   ]
  },
  {
   "cell_type": "code",
   "execution_count": 46,
   "metadata": {},
   "outputs": [],
   "source": [
    "fig.savefig('../figures/lstm2_train_val_loss.png',dpi=600)"
   ]
  },
  {
   "cell_type": "code",
   "execution_count": 47,
   "metadata": {},
   "outputs": [],
   "source": [
    "model_config = {\n",
    "    \"input_size\": input_size,\n",
    "    \"hidden_size\": hidden_size,\n",
    "    \"num_layers\": num_layers,\n",
    "    \"output_size\": output_size,\n",
    "    \"fc_size\": 24\n",
    "}\n",
    "\n",
    "with open('../model/lstm2_config.json', 'w') as f:\n",
    "    json.dump(model_config, f)\n",
    "\n",
    "torch.save(model.state_dict(),'../model/lstm2_for_category_wholesale_price.pt')"
   ]
  },
  {
   "cell_type": "markdown",
   "metadata": {},
   "source": [
    "# 3. Make predictions for the following week"
   ]
  },
  {
   "cell_type": "code",
   "execution_count": 56,
   "metadata": {},
   "outputs": [
    {
     "data": {
      "text/plain": [
       "<All keys matched successfully>"
      ]
     },
     "execution_count": 56,
     "metadata": {},
     "output_type": "execute_result"
    }
   ],
   "source": [
    "lstm1 = MultiLSTM(input_size, hidden_size, output_size, output_seq_len).to(device)\n",
    "lstm1.load_state_dict(torch.load('../model/lstm1_for_category_sales_volume.pt'))\n",
    "lstm2 = MultiLSTM(input_size, hidden_size, output_size, output_seq_len).to(device)\n",
    "lstm2.load_state_dict(torch.load('../model/lstm2_for_category_wholesale_price.pt'))"
   ]
  },
  {
   "cell_type": "code",
   "execution_count": 67,
   "metadata": {},
   "outputs": [
    {
     "name": "stdout",
     "output_type": "stream",
     "text": [
      "torch.Size([1, 30, 6]) torch.Size([1, 30, 6])\n"
     ]
    }
   ],
   "source": [
    "pred_X1 = quantity_data.iloc[-lag:,].values.reshape(1, lag, input_size)\n",
    "pred_X1_tensor = torch.FloatTensor(pred_X1).to(device)\n",
    "\n",
    "pred_X2 = price_data.iloc[-lag:,].values.reshape(1, lag, input_size)\n",
    "pred_X2_tensor = torch.FloatTensor(pred_X2).to(device)\n",
    "\n",
    "print(pred_X1_tensor.shape, pred_X2_tensor.shape)"
   ]
  },
  {
   "cell_type": "code",
   "execution_count": 87,
   "metadata": {},
   "outputs": [],
   "source": [
    "with torch.no_grad():\n",
    "    pred_y1 = lstm1(pred_X1_tensor)\n",
    "    pred_y2 = lstm2(pred_X2_tensor)\n",
    "\n",
    "pred_y1 = pred_y1.cpu().detach().numpy()\n",
    "pred_y2 = pred_y2.cpu().detach().numpy()\n",
    "pred_y1 = np.squeeze(pred_y1)\n",
    "pred_y2 = np.squeeze(pred_y2)\n"
   ]
  },
  {
   "cell_type": "code",
   "execution_count": 88,
   "metadata": {},
   "outputs": [],
   "source": [
    "np.save('../results/pred_sale_volume.npy', pred_y1)\n",
    "np.save('../results/pred_wholesale_price.npy', pred_y2)"
   ]
  }
 ],
 "metadata": {
  "kernelspec": {
   "display_name": "base",
   "language": "python",
   "name": "python3"
  },
  "language_info": {
   "codemirror_mode": {
    "name": "ipython",
    "version": 3
   },
   "file_extension": ".py",
   "mimetype": "text/x-python",
   "name": "python",
   "nbconvert_exporter": "python",
   "pygments_lexer": "ipython3",
   "version": "3.8.5"
  }
 },
 "nbformat": 4,
 "nbformat_minor": 2
}

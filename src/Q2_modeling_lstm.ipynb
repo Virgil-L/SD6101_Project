{
 "cells": [
  {
   "cell_type": "code",
   "execution_count": null,
   "metadata": {},
   "outputs": [],
   "source": [
    "import torch\n",
    "from torch import nn\n",
    "import torch.nn.functional as F\n",
    "import torch.optim as optim\n",
    "from torch.utils.data import DataLoader, TensorDataset\n",
    "from sklearn.model_selection import train_test_split\n",
    "import pandas as pd\n",
    "import numpy as np\n",
    "import math\n",
    "import json\n",
    "\n",
    "torch.manual_seed(42)\n",
    "device = 'cuda' if torch.cuda.is_available() else 'cpu'"
   ]
  },
  {
   "cell_type": "code",
   "execution_count": null,
   "metadata": {},
   "outputs": [],
   "source": [
    "daily_category_sales = pd.read_csv('../data/daily_category_sales.csv', header=[0,1], index_col=0)\n",
    "data = daily_category_sales['quantity_sum'].copy()\n",
    "print(data.isna().sum())\n",
    "data.fillna(0, inplace=True) # use zero to replace NaN"
   ]
  },
  {
   "cell_type": "markdown",
   "metadata": {},
   "source": [
    "# 1. LSTM for sales volume prediction"
   ]
  },
  {
   "cell_type": "markdown",
   "metadata": {},
   "source": [
    "## Build dataset\n",
    "### Use sales quantity of last 30 days to predict sales quantity of next 7 days"
   ]
  },
  {
   "cell_type": "code",
   "execution_count": null,
   "metadata": {},
   "outputs": [],
   "source": [
    "lag = 30\n",
    "X = np.array([np.array(data.iloc[idx-lag:idx,]) for idx in range(lag, data.shape[0]-7, 1)])\n",
    "y = np.array([np.array(data.iloc[idx:idx+7,]) for idx in range(lag, data.shape[0]-7, 1)])\n",
    "\n",
    "X_train, X_val, y_train, y_val = train_test_split(X, y, test_size=0.3, shuffle=True, random_state=42)\n",
    "\n",
    "X_train_tensor = torch.FloatTensor(X_train).to(device)\n",
    "y_train_tensor = torch.FloatTensor(y_train).to(device)\n",
    "X_val_tensor = torch.FloatTensor(X_val).to(device)\n",
    "y_val_tensor = torch.FloatTensor(y_val).to(device)\n",
    "print(X_train_tensor.shape, y_train_tensor.shape)\n",
    "# (batch, seq_len, input_size)"
   ]
  },
  {
   "cell_type": "markdown",
   "metadata": {},
   "source": [
    "## Define & initialize model"
   ]
  },
  {
   "cell_type": "code",
   "execution_count": null,
   "metadata": {},
   "outputs": [],
   "source": [
    "class MultiLSTM(nn.Module):\n",
    "    def __init__(self, input_size, hidden_size, output_size, output_seq_len):\n",
    "        super(MultiLSTM, self).__init__()\n",
    "\n",
    "        self.lstm = nn.LSTM(input_size, hidden_size, batch_first=True)\n",
    "        self.fc = nn.Linear(hidden_size, output_size*output_seq_len)\n",
    "\n",
    "    def forward(self, x):\n",
    "        lstm_out, _ = self.lstm(x)\n",
    "        last_output = lstm_out[:, -1, :]\n",
    "        output = self.fc(last_output)\n",
    "        output = output.view(output.size(0), output_seq_len, output_size)  # 将输出变形为 (batch_size, m, 7)\n",
    "        return output\n"
   ]
  },
  {
   "cell_type": "code",
   "execution_count": null,
   "metadata": {},
   "outputs": [],
   "source": [
    "# Initialize the LSTM model\n",
    "input_size = 6\n",
    "hidden_size = 256\n",
    "num_layers = 2\n",
    "output_size = 6\n",
    "output_seq_len = 7\n",
    "\n",
    "model = MultiLSTM(input_size, hidden_size, output_size, output_seq_len).to(device)\n",
    "print(model)\n",
    "\n",
    "criterion = nn.MSELoss()\n",
    "optimizer = optim.Adam(model.parameters(), lr=0.002)"
   ]
  },
  {
   "cell_type": "markdown",
   "metadata": {},
   "source": [
    "## Training"
   ]
  },
  {
   "cell_type": "code",
   "execution_count": null,
   "metadata": {},
   "outputs": [],
   "source": [
    "# load data in batches\n",
    "dataset = TensorDataset(X_train_tensor, y_train_tensor)\n",
    "batch_size = 128\n",
    "data_loader = DataLoader(dataset, batch_size=batch_size, shuffle=True)\n",
    "n_batch = math.ceil(X_train_tensor.shape[0] / batch_size)\n",
    "\n",
    "train_loss, val_loss = [], [] \n",
    "# train\n",
    "num_epochs = 2000\n",
    "for epoch in range(num_epochs):\n",
    "    epoch_train_loss = 0\n",
    "    model.train()\n",
    "    for X_batch, y_batch in data_loader:\n",
    "        # forward pass\n",
    "        outputs = model(X_batch)\n",
    "\n",
    "        # Compute the RMSE loss\n",
    "        loss = torch.sqrt(criterion(outputs, y_batch))\n",
    "\n",
    "        # backward pass and optimization\n",
    "        optimizer.zero_grad()\n",
    "        loss.backward()\n",
    "        optimizer.step()\n",
    "\n",
    "        epoch_train_loss += loss.item() / n_batch\n",
    "    \n",
    "    # validation\n",
    "    model.eval()\n",
    "    with torch.no_grad():\n",
    "        val_outputs = model(X_val_tensor)\n",
    "        epoch_val_loss = torch.sqrt(criterion(val_outputs, y_val_tensor))\n",
    "\n",
    "    train_loss.append(epoch_train_loss)\n",
    "    val_loss.append(epoch_val_loss.item())\n",
    "\n",
    "    if (epoch+1) % 50 == 0:\n",
    "        print(f'Epoch [{epoch+1}/{num_epochs}], Train Loss: {epoch_train_loss:.4f}, Validation Loss: {epoch_val_loss:.4f}')\n",
    "\n",
    "# Test the model on new data (you can replace this with your own test data)\n",
    "# test_input = torch.FloatTensor(np.random.rand(10, m, t))\n",
    "# with torch.no_grad():\n",
    "#     predicted_output = model(test_input)\n",
    "\n",
    "# Print the predicted output\n",
    "# print(\"Predicted Output:\")\n",
    "# print(predicted_output.numpy())"
   ]
  },
  {
   "cell_type": "code",
   "execution_count": null,
   "metadata": {},
   "outputs": [],
   "source": [
    "import matplotlib.pyplot as plt\n",
    "fig, ax = plt.subplots(figsize=(12, 8))\n",
    "ax.plot(train_loss, label='Train Loss')\n",
    "ax.plot(val_loss, label='Validation Loss')\n",
    "ax.set_xlabel('Epoch', fontsize=16)\n",
    "ax.set_ylabel('RMSE Loss', fontsize=16)\n",
    "ax.set_title('Train and Validation Loss',fontsize=20)\n",
    "ax.set_ylim(0, 110)\n",
    "ax.legend(fontsize=16)\n",
    "ax.grid(True)\n",
    "plt.show()"
   ]
  },
  {
   "cell_type": "code",
   "execution_count": null,
   "metadata": {},
   "outputs": [],
   "source": [
    "fig.savefig('../figures/lstm1_train_val_loss.png',dpi=600)"
   ]
  },
  {
   "cell_type": "code",
   "execution_count": null,
   "metadata": {},
   "outputs": [],
   "source": [
    "model_config = {\n",
    "    \"input_size\": input_size,\n",
    "    \"hidden_size\": hidden_size,\n",
    "    \"num_layers\": num_layers,\n",
    "    \"output_size\": output_size,\n",
    "    \"fc_size\": 24\n",
    "}\n",
    "\n",
    "with open('../model/lstm1_config.json', 'w') as f:\n",
    "    json.dump(model_config, f)\n",
    "\n",
    "torch.save(model.state_dict(),'../model/lstm1_for_category_sales_volume.pt')"
   ]
  },
  {
   "cell_type": "markdown",
   "metadata": {},
   "source": [
    "## Model Metrics: R-square & RMSE"
   ]
  },
  {
   "cell_type": "code",
   "execution_count": null,
   "metadata": {},
   "outputs": [],
   "source": [
    "from sklearn.metrics import r2_score, mean_squared_error\n",
    "y_pred = model(X_val_tensor).cpu().detach().numpy()\n",
    "y_true = y_val_tensor.cpu().detach().numpy()\n",
    "print(f'R-square: {r2_score(y_true.reshape(-1), y_pred.reshape(-1)):.4f};\\t RMSE: {torch.sqrt(criterion(val_outputs, y_val_tensor)).item():.4f}' )"
   ]
  },
  {
   "cell_type": "markdown",
   "metadata": {},
   "source": [
    "### Visualize prediction of each category"
   ]
  },
  {
   "cell_type": "code",
   "execution_count": null,
   "metadata": {},
   "outputs": [],
   "source": [
    "# load model weights\n",
    "model = MultiLSTM(input_size, hidden_size, output_size, output_seq_len).to(device)\n",
    "model.load_state_dict(torch.load('../model/lstm1_for_category_sales_volume.pt'))"
   ]
  },
  {
   "cell_type": "code",
   "execution_count": null,
   "metadata": {},
   "outputs": [],
   "source": [
    "X_tensor = torch.FloatTensor(X).to(device)\n",
    "y_tensor = torch.FloatTensor(y).to(device)\n",
    "\n",
    "model.eval()\n",
    "with torch.no_grad():\n",
    "    y_pred_tensor = model(X_tensor)\n",
    "\n",
    "y_true = y_tensor[:,0,:].cpu().detach().numpy().T\n",
    "y_pred = y_pred_tensor[:,0,:].cpu().detach().numpy().T"
   ]
  },
  {
   "cell_type": "code",
   "execution_count": 61,
   "metadata": {},
   "outputs": [
    {
     "data": {
      "text/plain": [
       "25.55943641865099"
      ]
     },
     "execution_count": 61,
     "metadata": {},
     "output_type": "execute_result"
    }
   ],
   "source": [
    "math.sqrt(mean_squared_error(y_true.reshape(-1), y_pred.reshape(-1)))"
   ]
  },
  {
   "cell_type": "code",
   "execution_count": null,
   "metadata": {},
   "outputs": [],
   "source": [
    "import matplotlib.pyplot as plt\n",
    "fig, ax = plt.subplots(figsize=(12, 8))\n",
    "ax.plot(y_true[0].reshape(-1), label='True')\n",
    "ax.plot(y_pred[0].reshape(-1), label='Predicted')"
   ]
  },
  {
   "cell_type": "markdown",
   "metadata": {},
   "source": [
    "# 2. LSTM for wholesale price prediction"
   ]
  }
 ],
 "metadata": {
  "kernelspec": {
   "display_name": "base",
   "language": "python",
   "name": "python3"
  },
  "language_info": {
   "codemirror_mode": {
    "name": "ipython",
    "version": 3
   },
   "file_extension": ".py",
   "mimetype": "text/x-python",
   "name": "python",
   "nbconvert_exporter": "python",
   "pygments_lexer": "ipython3",
   "version": "3.8.5"
  }
 },
 "nbformat": 4,
 "nbformat_minor": 2
}

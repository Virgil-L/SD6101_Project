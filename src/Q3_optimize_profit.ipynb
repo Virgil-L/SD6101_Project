{
 "cells": [
  {
   "cell_type": "code",
   "execution_count": 113,
   "metadata": {},
   "outputs": [],
   "source": [
    "import pandas as pd\n",
    "import numpy as np\n",
    "import matplotlib.pyplot as plt\n",
    "import pyswarms as ps\n",
    "from pyswarms.utils.functions import single_obj as fx\n",
    "from pyswarms.utils.plotters import plot_cost_history\n",
    "from IPython.display import display"
   ]
  },
  {
   "cell_type": "markdown",
   "metadata": {},
   "source": [
    "## Load previous results"
   ]
  },
  {
   "cell_type": "markdown",
   "metadata": {},
   "source": [
    "### load price elasticity"
   ]
  },
  {
   "cell_type": "code",
   "execution_count": 2,
   "metadata": {},
   "outputs": [
    {
     "name": "stdout",
     "output_type": "stream",
     "text": [
      "(6, 6)\n"
     ]
    }
   ],
   "source": [
    "categories_enc =  {'Aquatic Roots and Tubers':'1', 'Cauliflower':'2' ,'Chili Peppers':'3', 'Edible Mushrooms':'4', 'Leafy Greens':'5', 'Solanaceous Vegetables':'6'}\n",
    "\n",
    "price_elasticity = []\n",
    "\n",
    "for category in categories_enc.keys():\n",
    "    category = category.replace(\" \", \"_\")\n",
    "    coef_df = pd.read_csv(f'../results/reg_coef_{category}.csv',index_col=0)\n",
    "\n",
    "    paddings_ = list(set(range(1,7)) - set([int(idx.split('_')[-1]) for idx in coef_df.index if 'avg_sale_price' in idx]))\n",
    "    for padding in paddings_:\n",
    "        coef_df.loc[f'avg_sale_price_{padding}','coef'] = 0\n",
    "    coef_df = coef_df.loc[[idx for idx in coef_df.index if 'avg_sale_price' in idx],['coef']]\n",
    "    coef_df.sort_index(inplace=True)\n",
    "    price_elasticity.append(coef_df['coef'].values)\n",
    "\n",
    "price_elasticity = np.array(price_elasticity)\n",
    "print(price_elasticity.shape)\n",
    "# price_elasticity[i][j] =  the demand elasticity of category i to price of category j"
   ]
  },
  {
   "cell_type": "markdown",
   "metadata": {},
   "source": [
    "### load prediction of sale volume, wholesale price"
   ]
  },
  {
   "cell_type": "code",
   "execution_count": 3,
   "metadata": {},
   "outputs": [
    {
     "name": "stdout",
     "output_type": "stream",
     "text": [
      "(7, 6) (7, 6)\n"
     ]
    }
   ],
   "source": [
    "pred_sale_volume = np.load('../results/pred_sale_volume.npy')\n",
    "pred_wholesale_price = np.load('../results/pred_wholesale_price.npy')\n",
    "print(pred_sale_volume.shape, pred_wholesale_price.shape)\n",
    "# pred_XX[i][j] = the predicted sale volume/wholesale price of day i of category j"
   ]
  },
  {
   "cell_type": "code",
   "execution_count": 4,
   "metadata": {},
   "outputs": [
    {
     "name": "stderr",
     "output_type": "stream",
     "text": [
      "2023-11-13 13:31:31,163 - numexpr.utils - INFO - Note: NumExpr detected 16 cores but \"NUMEXPR_MAX_THREADS\" not set, so enforcing safe limit of 8.\n",
      "2023-11-13 13:31:31,165 - numexpr.utils - INFO - NumExpr defaulting to 8 threads.\n"
     ]
    }
   ],
   "source": [
    "daily_category_sales = pd.read_csv('../data/daily_category_sales.csv',index_col=0, header=[0,1])\n",
    "recent_sales = daily_category_sales.iloc[-7:,:]\n",
    "recent_prices = (recent_sales['cost_sum'] + recent_sales['sales_profit_sum']) / recent_sales['quantity_sum']\n",
    "avg_recent_prices = recent_prices.mean().values\n",
    "\n",
    "discounts = [0.7]*6\n",
    "spoilage_rates = [0.1365, 0.1551, 0.0924, 0.0945, 0.1283, 0.0668]\n",
    "\n"
   ]
  },
  {
   "cell_type": "code",
   "execution_count": null,
   "metadata": {},
   "outputs": [],
   "source": []
  },
  {
   "cell_type": "markdown",
   "metadata": {},
   "source": [
    "### display profit and profit rate of last week"
   ]
  },
  {
   "cell_type": "code",
   "execution_count": 118,
   "metadata": {},
   "outputs": [
    {
     "data": {
      "text/plain": [
       "date\n",
       "2023-06-24    800.84431\n",
       "2023-06-25    579.26514\n",
       "2023-06-26    568.17112\n",
       "2023-06-27    614.58183\n",
       "2023-06-28    623.81306\n",
       "2023-06-29    741.08815\n",
       "2023-06-30    802.88091\n",
       "dtype: float64"
      ]
     },
     "metadata": {},
     "output_type": "display_data"
    },
    {
     "data": {
      "text/html": [
       "<div>\n",
       "<style scoped>\n",
       "    .dataframe tbody tr th:only-of-type {\n",
       "        vertical-align: middle;\n",
       "    }\n",
       "\n",
       "    .dataframe tbody tr th {\n",
       "        vertical-align: top;\n",
       "    }\n",
       "\n",
       "    .dataframe thead th {\n",
       "        text-align: right;\n",
       "    }\n",
       "</style>\n",
       "<table border=\"1\" class=\"dataframe\">\n",
       "  <thead>\n",
       "    <tr style=\"text-align: right;\">\n",
       "      <th>category_name</th>\n",
       "      <th>Aquatic Roots and Tubers</th>\n",
       "      <th>Cauliflower</th>\n",
       "      <th>Chili Peppers</th>\n",
       "      <th>Edible Mushrooms</th>\n",
       "      <th>Leafy Greens</th>\n",
       "      <th>Solanaceous Vegetables</th>\n",
       "    </tr>\n",
       "    <tr>\n",
       "      <th>date</th>\n",
       "      <th></th>\n",
       "      <th></th>\n",
       "      <th></th>\n",
       "      <th></th>\n",
       "      <th></th>\n",
       "      <th></th>\n",
       "    </tr>\n",
       "  </thead>\n",
       "  <tbody>\n",
       "    <tr>\n",
       "      <th>2023-06-24</th>\n",
       "      <td>0.405043</td>\n",
       "      <td>0.610105</td>\n",
       "      <td>0.731536</td>\n",
       "      <td>0.457419</td>\n",
       "      <td>0.472986</td>\n",
       "      <td>0.602299</td>\n",
       "    </tr>\n",
       "    <tr>\n",
       "      <th>2023-06-25</th>\n",
       "      <td>0.359395</td>\n",
       "      <td>0.717791</td>\n",
       "      <td>0.776939</td>\n",
       "      <td>0.486291</td>\n",
       "      <td>0.394725</td>\n",
       "      <td>0.592299</td>\n",
       "    </tr>\n",
       "    <tr>\n",
       "      <th>2023-06-26</th>\n",
       "      <td>0.382010</td>\n",
       "      <td>0.763224</td>\n",
       "      <td>0.846159</td>\n",
       "      <td>0.495508</td>\n",
       "      <td>0.543217</td>\n",
       "      <td>0.574084</td>\n",
       "    </tr>\n",
       "    <tr>\n",
       "      <th>2023-06-27</th>\n",
       "      <td>0.346077</td>\n",
       "      <td>0.538462</td>\n",
       "      <td>0.828405</td>\n",
       "      <td>0.419364</td>\n",
       "      <td>0.467015</td>\n",
       "      <td>0.695391</td>\n",
       "    </tr>\n",
       "    <tr>\n",
       "      <th>2023-06-28</th>\n",
       "      <td>0.359849</td>\n",
       "      <td>0.568282</td>\n",
       "      <td>0.801574</td>\n",
       "      <td>0.489069</td>\n",
       "      <td>0.378821</td>\n",
       "      <td>0.614452</td>\n",
       "    </tr>\n",
       "    <tr>\n",
       "      <th>2023-06-29</th>\n",
       "      <td>0.395814</td>\n",
       "      <td>0.483607</td>\n",
       "      <td>0.719349</td>\n",
       "      <td>0.468467</td>\n",
       "      <td>0.433461</td>\n",
       "      <td>0.666091</td>\n",
       "    </tr>\n",
       "    <tr>\n",
       "      <th>2023-06-30</th>\n",
       "      <td>0.347812</td>\n",
       "      <td>0.455646</td>\n",
       "      <td>0.645836</td>\n",
       "      <td>0.450072</td>\n",
       "      <td>0.636629</td>\n",
       "      <td>0.725837</td>\n",
       "    </tr>\n",
       "  </tbody>\n",
       "</table>\n",
       "</div>"
      ],
      "text/plain": [
       "category_name  Aquatic Roots and Tubers  Cauliflower  Chili Peppers  \\\n",
       "date                                                                  \n",
       "2023-06-24                     0.405043     0.610105       0.731536   \n",
       "2023-06-25                     0.359395     0.717791       0.776939   \n",
       "2023-06-26                     0.382010     0.763224       0.846159   \n",
       "2023-06-27                     0.346077     0.538462       0.828405   \n",
       "2023-06-28                     0.359849     0.568282       0.801574   \n",
       "2023-06-29                     0.395814     0.483607       0.719349   \n",
       "2023-06-30                     0.347812     0.455646       0.645836   \n",
       "\n",
       "category_name  Edible Mushrooms  Leafy Greens  Solanaceous Vegetables  \n",
       "date                                                                   \n",
       "2023-06-24             0.457419      0.472986                0.602299  \n",
       "2023-06-25             0.486291      0.394725                0.592299  \n",
       "2023-06-26             0.495508      0.543217                0.574084  \n",
       "2023-06-27             0.419364      0.467015                0.695391  \n",
       "2023-06-28             0.489069      0.378821                0.614452  \n",
       "2023-06-29             0.468467      0.433461                0.666091  \n",
       "2023-06-30             0.450072      0.636629                0.725837  "
      ]
     },
     "metadata": {},
     "output_type": "display_data"
    }
   ],
   "source": [
    "display(recent_sales['sales_profit_sum'].sum(axis=1))\n",
    "display(recent_sales['avg_profit_rate'])"
   ]
  },
  {
   "cell_type": "markdown",
   "metadata": {},
   "source": [
    "## Set up rules"
   ]
  },
  {
   "cell_type": "markdown",
   "metadata": {},
   "source": [
    "### Adjust demand volume with estimated Price elasticity of demand\n",
    "\n",
    "$$\n",
    "\\Delta \\ln Q_{k} = \\sum\\limits_{i=1}^m \\beta_{ki} \\Delta \\ln P_{i} \\ ,\\hspace{10pt} \\text{i.e.} \\ \\ln \\frac{Q_k}{Q_{base,k}} = \\sum\\limits_{i=1}^m \\beta_{ki} \\ln \\frac{P_{i}}{P_{base,i}} \\hspace{5pt} (k=1,2,\\cdots,m)\n",
    "$$\n",
    "where $Q_{base}$ is the predict value of LSTM, and $P_{base}$ is last week's average selling price of the category"
   ]
  },
  {
   "cell_type": "code",
   "execution_count": 5,
   "metadata": {},
   "outputs": [],
   "source": [
    "def adjust_demand(q_base, p_curr, p_base=avg_recent_prices, p_elasticity=price_elasticity):\n",
    "    \"\"\"\n",
    "    p_base: the base price\n",
    "    p_curr: the current price\n",
    "    q_base: the base demand\n",
    "    p_elasticity: the price elasticity\n",
    "    \"\"\"\n",
    "    q_log_delta = np.matmul(p_elasticity, np.log(p_curr/p_base))\n",
    "\n",
    "    return q_base * np.exp(q_log_delta)"
   ]
  },
  {
   "cell_type": "markdown",
   "metadata": {},
   "source": [
    "### Calculate daily profit"
   ]
  },
  {
   "cell_type": "code",
   "execution_count": 78,
   "metadata": {},
   "outputs": [],
   "source": [
    "def daily_profit(profit_rate, q_buyin, \n",
    "                pred_sale_volume=pred_sale_volume, \n",
    "                pred_wholesale_price=pred_wholesale_price, \n",
    "                discounts=discounts, \n",
    "                spoilage_rates=spoilage_rates):\n",
    "    \"\"\"\n",
    "    x: the price of each category\n",
    "    pred_sale_volume: the predicted sale volume of each category\n",
    "    pred_wholesale_price: the predicted wholesale price of each category\n",
    "    discounts: the discount rate of each category\n",
    "    spoilage_rates: the spoilage rate of each category\n",
    "    \"\"\"\n",
    "\n",
    "\n",
    "    p_buyin = pred_wholesale_price[day] #外部变量day控制预测的是第几天\n",
    "    q_demand_pred = pred_sale_volume[day]\n",
    "\n",
    "    p_sale = np.multiply(p_buyin, np.ones(6)+profit_rate)\n",
    "    p_sale_discount = np.multiply(p_sale, discounts)\n",
    "    q_demand_adjusted = adjust_demand(q_base=q_demand_pred, p_curr=p_sale)\n",
    "\n",
    "    q_buyin_normal = np.multiply(q_buyin, (np.array([1]*6)-spoilage_rates))\n",
    "    q_buyin_discount = np.multiply(q_buyin, spoilage_rates)\n",
    "\n",
    "    profit = 0\n",
    "    for idx in range(6):\n",
    "        cost = p_buyin[idx]*q_buyin[idx]\n",
    "        if q_buyin[idx] <= q_demand_adjusted[idx]:\n",
    "            profit += (p_sale[idx]*q_buyin_normal[idx] + p_sale_discount[idx]*q_buyin_discount[idx]) - cost\n",
    "        else:\n",
    "            profit += p_sale[idx]*np.multiply(q_demand_adjusted, (np.array([1]*6)-spoilage_rates))[idx] + \\\n",
    "                p_sale_discount[idx]*np.multiply(q_demand_adjusted, spoilage_rates)[idx] - cost\n",
    "        \n",
    "\n",
    "    return profit"
   ]
  },
  {
   "cell_type": "code",
   "execution_count": 128,
   "metadata": {},
   "outputs": [
    {
     "name": "stdout",
     "output_type": "stream",
     "text": [
      "q_demand_pred: [  3.6777308  17.407774   73.02979    33.26445   119.091      19.577618 ]\n",
      "\n",
      "q_demand_adjusted: [  3.27243156  16.89255286  69.20590397  29.11879904 119.27879569\n",
      "  20.66781548]\n",
      "\n",
      "q_buyin: [  3.6409535  17.233696   72.29949    32.931805  117.90009    19.381842 ]\n",
      "\n",
      "q_buyin_normal: [  3.14396338  14.56074974  65.61901883  29.81974912 102.77351114\n",
      "  18.08713464]\n",
      "\n",
      "q_buyin_discount: [ 0.49699016  2.67294625  6.68047305  3.11205554 15.12658194  1.29470702]\n",
      "\n",
      "p_buyin: [12.260101   8.125391   3.277806   3.6586807  3.0906625  4.21375  ]\n",
      "\n",
      "p_sale: [17.16414185 13.00062561  5.90005088  6.21975715  5.25412621  7.16337481]\n",
      "\n",
      "profit: 579.7172604747877\n",
      "\n"
     ]
    }
   ],
   "source": [
    "profit_rate = test_profit_rate\n",
    "q_buyin = test_q_buyin\n",
    "\n",
    "p_buyin = pred_wholesale_price[day] #外部变量day控制预测的是第几天\n",
    "q_demand_pred = pred_sale_volume[day]\n",
    "\n",
    "p_sale = np.multiply(p_buyin, np.ones(6)+profit_rate)\n",
    "p_sale_discount = np.multiply(p_sale, discounts)\n",
    "q_demand_adjusted = adjust_demand(q_base=q_demand_pred, p_curr=p_sale)\n",
    "\n",
    "q_buyin_normal = np.multiply(q_buyin, (np.array([1]*6)-spoilage_rates))\n",
    "q_buyin_discount = np.multiply(q_buyin, spoilage_rates)\n",
    "\n",
    "profit = 0\n",
    "for idx in range(6):\n",
    "    cost = p_buyin[idx]*q_buyin[idx]\n",
    "    if q_buyin[idx] <= q_demand_adjusted[idx]:\n",
    "        profit += (p_sale[idx]*q_buyin_normal[idx] + p_sale_discount[idx]*q_buyin_discount[idx]) - cost\n",
    "    else:\n",
    "        profit += p_sale[idx]*np.multiply(q_demand_adjusted, (np.array([1]*6)-spoilage_rates))[idx] + \\\n",
    "            p_sale_discount[idx]*np.multiply(q_demand_adjusted, spoilage_rates)[idx] - cost\n",
    "\n",
    "print(f'q_demand_pred: {q_demand_pred}\\n')\n",
    "print(f'q_demand_adjusted: {q_demand_adjusted}\\n')\n",
    "print(f'q_buyin: {q_buyin}\\n')\n",
    "print(f'q_buyin_normal: {q_buyin_normal}\\n')\n",
    "print(f'q_buyin_discount: {q_buyin_discount}\\n')\n",
    "print(f'p_buyin: {p_buyin}\\n')\n",
    "print(f'p_sale: {p_sale}\\n')\n",
    "print(f'profit: {profit}\\n')"
   ]
  },
  {
   "cell_type": "code",
   "execution_count": 111,
   "metadata": {},
   "outputs": [],
   "source": [
    "def objective_func(X): # X: (n_particles, 12) = (particles, concat(profit_rate, buyin_quantity))\n",
    "    profit_list = []\n",
    "    \n",
    "    for i in range(n_particles):\n",
    "        particle_pos = X[i]\n",
    "\n",
    "        profit_rate = particle_pos[:6]\n",
    "        q_buyin = particle_pos[6:]\n",
    "        profit = daily_profit(profit_rate, q_buyin)\n",
    "        profit_list.append(-profit)\n",
    "    \n",
    "    return profit_list"
   ]
  },
  {
   "cell_type": "code",
   "execution_count": null,
   "metadata": {},
   "outputs": [],
   "source": [
    "ini_pos [] # initialize wholesale prices and sale volume\n",
    "ini_pose\n",
    "\n",
    "n_particles = 1000\n",
    "n_dimensions = 12\n",
    "lower_bound = np.array([])\n",
    "upper_bound = np.array([])\n",
    "bounds = (lower_bound, upper_bound)\n",
    "\n",
    "\n",
    "\n",
    "# 一部分粒子的初始位置给定，另一部分初始位置随机\n",
    "weight_ini = 0.3 # 给定的初始值占总粒子的比例\n",
    "pos_given = np.random.uniform(low=lower_bound, high=upper_bound, size=(int(n_particles*weight_ini), n_dimensions))\n",
    "pos_given = 0.8 * pos_given + 0.2 * ini_pos\n",
    "pos_random = np.random.uniform(low=lower_bound, high=upper_bound, size=(int(n_particles*(1-weight_ini)), n_dimensions))\n",
    "\n",
    "initial_pos = np.vstack((pos_given, pos_random))"
   ]
  },
  {
   "cell_type": "code",
   "execution_count": null,
   "metadata": {},
   "outputs": [],
   "source": [
    "options = {'c1': 0.5, 'c2': 0.5, 'w': 0.6} # 个人 社会 继承因子， PSO算法的参数\n",
    "optimizer = ps.single.GlobalBestPSO(n_particles=n_particles, \n",
    "                                    dimensions=n_dimensions, \n",
    "                                    options=options, \n",
    "                                    bounds=bounds,\n",
    "                                    init_pos=initial_pos)\n",
    "\n",
    "best_position, best_cost = optimizer.optimize(objective_func, iters=1000, verbose=True)\n",
    "\n",
    "fig, ax = plt.subplots()\n",
    "beautiful(ax)\n",
    "plot_cost_history(cost_history=optimizer.cost_history, title=\"目标函数(-利润)变化曲线\", ax=ax)\n",
    "plt.show()"
   ]
  },
  {
   "cell_type": "code",
   "execution_count": null,
   "metadata": {},
   "outputs": [],
   "source": [
    "def pre_sale_amount(sale_price, sale_lstm):\n",
    "    list_sale_amount = []\n",
    "    for idx in range(6):\n",
    "        price = sale_price[idx]\n",
    "        sale_volume = sale_lstm[idx]\n",
    "        sale_amount = modify(sale_volume, price, idx)\n",
    "    \n",
    "    return list_sale_amount\n",
    "\n"
   ]
  }
 ],
 "metadata": {
  "kernelspec": {
   "display_name": "base",
   "language": "python",
   "name": "python3"
  },
  "language_info": {
   "codemirror_mode": {
    "name": "ipython",
    "version": 3
   },
   "file_extension": ".py",
   "mimetype": "text/x-python",
   "name": "python",
   "nbconvert_exporter": "python",
   "pygments_lexer": "ipython3",
   "version": "3.8.5"
  }
 },
 "nbformat": 4,
 "nbformat_minor": 2
}

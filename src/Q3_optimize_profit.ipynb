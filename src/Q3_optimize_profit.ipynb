{
 "cells": [
  {
   "cell_type": "code",
   "execution_count": 2,
   "metadata": {},
   "outputs": [],
   "source": [
    "import pandas as pd\n",
    "import numpy as np\n",
    "import matplotlib.pyplot as plt\n",
    "import pyswarms as ps\n",
    "from pyswarms.utils.functions import single_obj as fx"
   ]
  },
  {
   "cell_type": "markdown",
   "metadata": {},
   "source": [
    "## Load previous results"
   ]
  },
  {
   "cell_type": "markdown",
   "metadata": {},
   "source": [
    "### load price elasticity"
   ]
  },
  {
   "cell_type": "code",
   "execution_count": 40,
   "metadata": {},
   "outputs": [],
   "source": [
    "categories_enc =  {'Aquatic Roots and Tubers':'1', 'Cauliflower':'2' ,'Chili Peppers':'3', 'Edible Mushrooms':'4', 'Leafy Greens':'5', 'Solanaceous Vegetables':'6'}\n",
    "\n",
    "price_elasticity = []\n",
    "\n",
    "for category in categories_enc.keys():\n",
    "    category = category.replace(\" \", \"_\")\n",
    "    coef_df = pd.read_csv(f'../results/reg_coef_{category}.csv',index_col=0)\n",
    "\n",
    "    paddings_ = list(set(range(1,7)) - set([int(idx.split('_')[-1]) for idx in coef_df.index if 'avg_sale_price' in idx]))\n",
    "    for padding in paddings_:\n",
    "        coef_df.loc[f'avg_sale_price_{padding}','coef'] = 0\n",
    "    coef_df = coef_df.loc[[idx for idx in coef_df.index if 'avg_sale_price' in idx],['coef']]\n",
    "    coef_df.sort_index(inplace=True)\n",
    "    price_elasticity.append(coef_df['coef'].values)\n",
    "\n",
    "price_elasticity = np.array(price_elasticity)\n",
    "\n",
    "# price_elasticity[i][j] =  the demand elasticity of category i to price of category j"
   ]
  },
  {
   "cell_type": "markdown",
   "metadata": {},
   "source": [
    "### load prediction of sale volume, wholesale price"
   ]
  },
  {
   "cell_type": "code",
   "execution_count": 50,
   "metadata": {},
   "outputs": [],
   "source": [
    "pred_sale_volume = np.load('../results/pred_sale_volume.npy')\n",
    "pred_wholesale_price = np.load('../results/pred_wholesale_price.npy')\n",
    "\n",
    "# pred_XX[i][j] = the predicted sale volume/wholesale price of day i of category j"
   ]
  },
  {
   "cell_type": "markdown",
   "metadata": {},
   "source": [
    "Modify sale volume with estimated Price elasticity of demand\n",
    "\n",
    "$$\n",
    "\\Delta \\ln Q_{k} = \\sum\\limits_{i=1}^m \\beta_{ki} \\Delta \\ln P_{i} \\ ,\\hspace{10pt} \\text{i.e.} \\ \\ln \\frac{Q_k}{Q_{base,k}} = \\sum\\limits_{i=1}^m \\beta_{ki} \\ln \\frac{P_{i}}{P_{base,i}} \\hspace{5pt} (k=1,2,\\cdots,m)\n",
    "$$\n",
    "where $Q_{base}$ is the predict value of LSTM, and $P_{base}$ is last week's average selling price of the category"
   ]
  },
  {
   "cell_type": "code",
   "execution_count": 49,
   "metadata": {},
   "outputs": [],
   "source": [
    "\n",
    "def modify_demand(p_base, p_curr, q_base, p_elasticity=price_elasticity):\n",
    "    \"\"\"\n",
    "    p_base: the base price\n",
    "    p_curr: the current price\n",
    "    q_base: the base demand\n",
    "    p_elasticity: the price elasticity\n",
    "    \"\"\"\n",
    "    q_log_delta = np.matmul(p_elasticity, np.log(p_curr/p_base))\n",
    "\n",
    "    return q_base * np.exp(q_log_delta)\n",
    "\n"
   ]
  },
  {
   "cell_type": "markdown",
   "metadata": {},
   "source": [
    "## TODO"
   ]
  },
  {
   "cell_type": "code",
   "execution_count": null,
   "metadata": {},
   "outputs": [],
   "source": [
    "def objective_func(x):\n",
    "    \"\"\"\n",
    "        param buy: 进价\n",
    "        param sale_lstm: 销售量(lstm 预测结果)\n",
    "        param alpha: 加成率(利润率) (变量)\n",
    "        param beta: 进货量(变量)\n",
    "        param gamma: 损耗率\n",
    "        param omega: 折扣\n",
    "        return: 收益/利润\n",
    "    \"\"\"\n",
    "    profit_list = []\n",
    "    for i in range(n_particles):\n",
    "        x_new = x[i]\n",
    "        profit = 0\n",
    "\n",
    "        # 遍历每种品类\n",
    "        for idx in range(6):\n",
    "            alpha = x_new[idx] # 利润率\n",
    "            beta = x_new[idx+6] # 进货量\n",
    "\n",
    "            buy = predict_wholesale_price[idx][day] # 进价\n",
    "            sale_lstm = predict_sale_volume[idx][day] #预测销量\n",
    "            omega = predict_omega[idx] # 折扣\n",
    "            gamma = predict_gamma[idx] # 损耗率\n",
    "\n",
    "            sale_price_normal = buy * (1 + alpha) # 正常品售价\n",
    "            sale_price_discount = sale_price_normal * omega # 次品的折扣价\n",
    "\n",
    "            buyin_amount_normal = beta*(1-gamma) # 正常品货量\n",
    "            buyin_amount_discount = beta*gamma # 次品货量\n",
    "\n",
    "            sale_modify = modify(sale_lstm, sale_price_normal, idx) # 修正后的销售量\n",
    "\n",
    "            v1 = sale_modify * (1-gamma) * sale_price_normal + sale_modify * gamma * sale_price_discount # 总销售额\n",
    "            v2 = beta * buy # 进货总成本\n",
    "\n",
    "            if beta <= sale_modify:\n",
    "                profit += (v1-v2) - (sale_modify-beta)*20 # ?? 20怎么来的\n",
    "            else:\n",
    "                profit += (v1-v2)\n",
    "\n",
    "        profit_list.append(-profit) # 负号是为了优化过程中求最小值吗？\n",
    "    \n",
    "    return profit_list"
   ]
  },
  {
   "cell_type": "code",
   "execution_count": null,
   "metadata": {},
   "outputs": [],
   "source": [
    "predict_wholesale_price = []\n",
    "predict_sale_volume = []\n",
    "predict_omega = [] #discount\n",
    "predict_gamma = [] #loss_rate\n",
    "\n",
    "day = 6 #??\n",
    "\n",
    "ini_pos [] # initialize wholesale prices and sale volume\n",
    "ini_pose\n",
    "\n",
    "n_particles = 1000\n",
    "n_dimensions = 12\n",
    "lower_bound = np.array([])\n",
    "upper_bound = np.array([])\n",
    "bounds = (lower_bound, upper_bound)\n",
    "\n",
    "\n",
    "\n",
    "# 一部分粒子的初始位置给定，另一部分初始位置随机\n",
    "weight_ini = 0.3 # 给定的初始值占总粒子的比例\n",
    "pos_given = np.random.uniform(low=lower_bound, high=upper_bound, size=(int(n_particles*weight_ini), n_dimensions))\n",
    "pos_given = 0.8 * pos_given + 0.2 * ini_pos\n",
    "pos_random = np.random.uniform(low=lower_bound, high=upper_bound, size=(int(n_particles*(1-weight_ini)), n_dimensions))\n",
    "\n",
    "initial_pos = np.vstack((pos_given, pos_random))"
   ]
  },
  {
   "cell_type": "code",
   "execution_count": null,
   "metadata": {},
   "outputs": [],
   "source": [
    "options = {'c1': 0.5, 'c2': 0.5, 'w': 0.6} # 个人 社会 继承因子， PSO算法的参数\n",
    "optimizer = ps.single.GlobalBestPSO(n_particles=n_particles, \n",
    "                                    dimensions=n_dimensions, \n",
    "                                    options=options, \n",
    "                                    bounds=bounds,\n",
    "                                    init_pos=initial_pos)\n",
    "\n",
    "best_position, best_cost = optimizer.optimize(objective_func, iters=1000, verbose=True)\n",
    "\n",
    "fig, ax = plt.subplots()\n",
    "beautiful(ax)\n",
    "plot_cost_history(cost_history=optimizer.cost_history, title=\"目标函数(-利润)变化曲线\", ax=ax)\n",
    "plt.show()"
   ]
  },
  {
   "cell_type": "code",
   "execution_count": null,
   "metadata": {},
   "outputs": [],
   "source": [
    "def pre_sale_amount(sale_price, sale_lstm):\n",
    "    list_sale_amount = []\n",
    "    for idx in range(6):\n",
    "        price = sale_price[idx]\n",
    "        sale_volume = sale_lstm[idx]\n",
    "        sale_amount = modify(sale_volume, price, idx)\n",
    "    \n",
    "    return list_sale_amount\n",
    "\n"
   ]
  }
 ],
 "metadata": {
  "kernelspec": {
   "display_name": "base",
   "language": "python",
   "name": "python3"
  },
  "language_info": {
   "codemirror_mode": {
    "name": "ipython",
    "version": 3
   },
   "file_extension": ".py",
   "mimetype": "text/x-python",
   "name": "python",
   "nbconvert_exporter": "python",
   "pygments_lexer": "ipython3",
   "version": "3.8.5"
  }
 },
 "nbformat": 4,
 "nbformat_minor": 2
}
